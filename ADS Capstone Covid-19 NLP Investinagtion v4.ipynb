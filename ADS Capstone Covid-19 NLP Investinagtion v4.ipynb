{
 "cells": [
  {
   "cell_type": "markdown",
   "metadata": {},
   "source": [
    "## Covid-19 NLP Investigation - Drugs Sentiment Analysis\n",
    "### Advanced Data Science Capstone Project by IBM/Coursera\n",
    "\n",
    "Author: Siarhei Vasiaichau <br />\n",
    "Date:   May 20, 2020\n",
    "\n",
    "## Table of contents\n",
    "1. [Introduction: Business Problem](#introduction)<br/>\n",
    "2. [Data](#data)<br/>\n",
    "3. [Methodology](#methodology)<br/>\n",
    "4. [Analysis](#analysis)<br/>\n",
    "    4.1 [Sentiment Analysis: Machine Learning](#sentiment_analysis)<br/>\n",
    "    4.1.1 [Sentiment Model Selection](#sentiment_analysis_ms)<br/>\n",
    "    4.2 [Sentiment Analysis: Deep Leaning](#sentiment_analysis_keras)<br/>\n",
    "    4.3 [Covid-19 Drugs  Sentiment Analysis](#sentiment_analysis_drug)<br/>\n",
    "    4.4 [Covid-19 Drugs Final Scores](#sentiment_analysis_final)<br/>\n",
    "    4.5 [Covid-19 Drugs Final Scores WordCloud](#sentiment_analysis_wordcloud)<br/>\n",
    "5. [Results and Discussion](#results)<br/>\n",
    "6. [Conclusion](#conclusion)<br/>\n",
    "7. [References](#references)<br/>"
   ]
  },
  {
   "cell_type": "markdown",
   "metadata": {},
   "source": [
    "## 1.\tIntroduction: Business Problem <a name=\"introduction\"></a>\n",
    "### Background\n",
    "&nbsp;&nbsp;&nbsp;&nbsp;Coronavirus disease 2019 (COVID-19) is an infectious disease caused by severe acute respiratory syndrome coronavirus 2 (SARS-CoV-2). It was first identified in December 2019 in Wuhan, China, and has since spread globally, resulting in an ongoing pandemic. As of 15 May 2020, more than 4.53 million cases have been reported across 188 countries and territories, resulting in more than 307,000 deaths. More than 1.63 million people have recovered.\n",
    "\n",
    "Common symptoms include fever, cough, fatigue, shortness of breath, and loss of smell and taste.While the majority of cases result in mild symptoms, some progress to acute respiratory distress syndrome (ARDS), multi-organ failure, septic shock, and blood clots.The time from exposure to onset of symptoms is typically around five days but may range from two to fourteen days.<br/>\n",
    "\n",
    "### Problem description\n",
    "&nbsp;&nbsp;&nbsp;&nbsp;&nbsp;&nbsp;&nbsp;&nbsp;According to the World Health Organization, <b>there are no available vaccines nor specific antiviral treatments for COVID-19</b>. On 1 May 2020, the United States gave Emergency Use Authorization to the antiviral <b>remdesivir</b> for people hospitalized with severe COVID‑19. Management involves the treatment of symptoms, supportive care, isolation, and experimental measures - https://en.wikipedia.org/wiki/Coronavirus_disease_2019 <br/>\n",
    "&nbsp;&nbsp;&nbsp;&nbsp;&nbsp;&nbsp;&nbsp;&nbsp;In this project we will try to analyze and find the most relevant drugs names mentioned in CORD-19 data coprus related to the treatment of COVID-19.<br/>\n",
    "\n",
    "<b><i>Disclaimer: The results of this project is NOT a substitute for professional medical advice, diagnosis or treatment.</i></b>\n",
    "\n",
    "### Target Audience\n",
    "&nbsp;&nbsp;&nbsp;&nbsp;This investigation would interest anyone who interesting in COVID-19 therapy trends.\n",
    "\n",
    "### Success Criteria\n",
    "&nbsp;&nbsp;&nbsp;&nbsp;The success criteria of this project will be the Top-10 Drugs list mentioned in the articles related to the COVID-19 treamtent mentioned in the positive context.\n"
   ]
  },
  {
   "cell_type": "markdown",
   "metadata": {},
   "source": [
    "## 2. Data  <a name=\"data\"></a>\n",
    "1) &nbsp;&nbsp;&nbsp;In our investigation we will use the \"COVID-19 Open Research Dataset Challenge (**CORD-19**)\" - https://www.kaggle.com/allen-institute-for-ai/CORD-19-research-challenge dataset.<br/> \n",
    "&nbsp;&nbsp;&nbsp;&nbsp;&nbsp;&nbsp;&nbsp;&nbsp;CORD-19 is a resource of over 63,000 scholarly articles, including over 51,000 with full text, about COVID-19, SARS-CoV-2, and related coronaviruses. This freely available dataset is provided to the global research community to apply recent advances in natural language processing and other AI techniques to generate new insights in support of the ongoing fight against this infectious disease. There is a growing urgency for these approaches because of the rapid acceleration in new coronavirus literature, making it difficult for the medical research community to keep up.<br/>\n",
    "&nbsp;&nbsp;&nbsp;&nbsp;&nbsp;&nbsp;&nbsp;&nbsp;The CORD-19 dataset represents the most extensive machine-readable coronavirus literature collection available for data mining to date. This allows the worldwide AI research community the opportunity to apply text and data mining approaches to find answers to questions within, and connect insights across, this content in support of the ongoing COVID-19 response efforts worldwide. There is a growing urgency for these approaches because of the rapid increase in coronavirus literature, making it difficult for the medical community to keep up.<br/>\n",
    "&nbsp;&nbsp;&nbsp;&nbsp;&nbsp;&nbsp;&nbsp;&nbsp;This dataset was created by the Allen Institute for AI in partnership with the Chan Zuckerberg Initiative, Georgetown University’s Center for Security and Emerging Technology, Microsoft Research, and the National Library of Medicine - National Institutes of Health, in coordination with The White House Office of Science and Technology Policy.<br/>\n",
    "&nbsp;&nbsp;&nbsp;&nbsp;&nbsp;&nbsp;&nbsp;&nbsp;The licenses for each dataset can be found in the all _ sources _ metadata csv file.\n",
    "\n",
    "&nbsp;&nbsp;&nbsp;&nbsp;&nbsp;&nbsp;&nbsp;&nbsp; **For this project we keep documents published in 2020 year only.**\n",
    "\n",
    "2) &nbsp;&nbsp;&nbsp;We are going to extract Drugs' names from RxNav. RxNav is a browser for several drug information sources, including RxNorm and RxTerms. RxNav finds drugs in RxNorm from the names and codes in its constituent vocabularies. <br/>\n",
    "&nbsp;&nbsp;&nbsp;&nbsp;&nbsp;&nbsp;&nbsp;&nbsp;With one exception, no license is needed to use any of the above APIs. The only exception is the /rxcui/{rxcui}/proprietary function in the RxNorm API, which requires the user to have a valid UMLS license and pass a proxy granting ticket as a parameter to the function. <br/>\n",
    "&nbsp;&nbsp;&nbsp;&nbsp;&nbsp;&nbsp;&nbsp;&nbsp;RxNav, RxMix, RxClass and the RxNorm, RxTerms, Prescribable, RxClass, Interaction, RxCUI History and RxImage APIs are resources developed by the **National Library of Medicine** - https://rxnav.nlm.nih.gov/ContactUs.html"
   ]
  },
  {
   "cell_type": "code",
   "execution_count": 1,
   "metadata": {},
   "outputs": [
    {
     "name": "stderr",
     "output_type": "stream",
     "text": [
      "Using TensorFlow backend.\n"
     ]
    }
   ],
   "source": [
    "import pandas as pd\n",
    "import os\n",
    "import json\n",
    "from operator import itemgetter\n",
    "import nltk\n",
    "import csv\n",
    "csv.field_size_limit(2147483647)\n",
    "#nltk.download('punkt')\n",
    "import requests\n",
    "import xml.etree.ElementTree as ET\n",
    "from vaderSentiment.vaderSentiment import SentimentIntensityAnalyzer\n",
    "#from nltk.stem.wordnet import WordNetLemmatizer\n",
    "from nltk.corpus import stopwords\n",
    "import string\n",
    "from textblob import TextBlob\n",
    "import codecs\n",
    "import re\n",
    "from shutil import copyfile\n",
    "import numpy as np\n",
    "import matplotlib.pyplot as plt\n",
    "from sklearn.metrics import accuracy_score\n",
    "from sklearn.metrics import precision_recall_fscore_support as score\n",
    "from sklearn.metrics import confusion_matrix\n",
    "from sklearn.metrics import classification_report\n",
    "import seaborn as sn\n",
    "from sklearn.feature_extraction.text import CountVectorizer, TfidfTransformer\n",
    "from sklearn.linear_model import SGDClassifier\n",
    "from sklearn.pipeline import Pipeline\n",
    "from sklearn.model_selection import train_test_split\n",
    "from sklearn.model_selection import StratifiedKFold\n",
    "from sklearn.ensemble import RandomForestRegressor\n",
    "from keras.preprocessing.text import one_hot\n",
    "from keras.preprocessing.sequence import pad_sequences\n",
    "from keras.models import Sequential\n",
    "from keras.layers.core import Activation, Dropout, Dense\n",
    "from keras.layers import Flatten, LSTM\n",
    "from keras.layers import GlobalMaxPooling1D\n",
    "from keras.models import Model\n",
    "from keras.layers.embeddings import Embedding\n",
    "from keras.preprocessing.text import Tokenizer\n",
    "from keras.layers import Input\n",
    "from keras.layers.merge import Concatenate\n",
    "from keras.utils import to_categorical\n",
    "from keras import backend as K\n",
    "from numpy import array\n",
    "from numpy import asarray\n",
    "from numpy import zeros\n",
    "from wordcloud import WordCloud\n",
    "from sklearn_deltatfidf import DeltaTfidfVectorizer"
   ]
  },
  {
   "cell_type": "code",
   "execution_count": 2,
   "metadata": {},
   "outputs": [],
   "source": [
    "COVID19_FILES_DIR = 'F:/COVID19/Covid-19 May 16/'\n",
    "COVID19_FILES_2020_DIR = 'f:\\\\COVID19\\\\Covid-19 May 16 2020  Filtered\\\\'\n",
    "METADATA_FILENAME = COVID19_FILES_DIR + 'metadata.csv'\n",
    "FILTERED_TEST_FILES_DIR = 'F:\\\\COVID19\\\\Covid-19 May 16 Filtered Test\\\\'\n",
    "FORMATTED_FILES_DIR = 'F:\\\\COVID19\\\\Covid-19 May 16 Formatted\\\\'\n",
    "RESULTS_FILE_NAME = 'Covid-19 Filtered May 16.csv'\n",
    "DRUGS_FILE_NAME = 'RxNorm Drugs API.csv'\n",
    "LABELED_SENTIMENT_FILE_NAME = 'F:\\\\COVID19\\\\Drun Sentiment labels.csv'\n",
    "GLOVE_FILE_NAME = 'F:\\\\COVID19\\\\glove.6B.100d.txt'"
   ]
  },
  {
   "cell_type": "markdown",
   "metadata": {},
   "source": [
    "### Read and process Metadatada file"
   ]
  },
  {
   "cell_type": "code",
   "execution_count": 3,
   "metadata": {},
   "outputs": [
    {
     "data": {
      "text/html": [
       "<style>\n",
       "table {float:left; font-size: 14px !important;}\n",
       "</style>\n"
      ],
      "text/plain": [
       "<IPython.core.display.HTML object>"
      ]
     },
     "metadata": {},
     "output_type": "display_data"
    }
   ],
   "source": [
    "%%html\n",
    "<style>\n",
    "table {float:left; font-size: 14px !important;}\n",
    "</style>"
   ]
  },
  {
   "cell_type": "code",
   "execution_count": 4,
   "metadata": {},
   "outputs": [
    {
     "data": {
      "text/plain": [
       "(63571, 18)"
      ]
     },
     "execution_count": 4,
     "metadata": {},
     "output_type": "execute_result"
    }
   ],
   "source": [
    "df = pd.read_csv(METADATA_FILENAME, low_memory=False, parse_dates=['publish_time'])\n",
    "df.shape"
   ]
  },
  {
   "cell_type": "code",
   "execution_count": 5,
   "metadata": {},
   "outputs": [
    {
     "data": {
      "text/plain": [
       "count                   63563\n",
       "unique                   6897\n",
       "top       2020-01-01 00:00:00\n",
       "freq                      592\n",
       "first     1951-03-12 00:00:00\n",
       "last      2021-12-31 00:00:00\n",
       "Name: publish_time, dtype: object"
      ]
     },
     "execution_count": 5,
     "metadata": {},
     "output_type": "execute_result"
    }
   ],
   "source": [
    "df['publish_time'].describe()"
   ]
  },
  {
   "cell_type": "code",
   "execution_count": 6,
   "metadata": {},
   "outputs": [
    {
     "data": {
      "text/html": [
       "<div>\n",
       "<style scoped>\n",
       "    .dataframe tbody tr th:only-of-type {\n",
       "        vertical-align: middle;\n",
       "    }\n",
       "\n",
       "    .dataframe tbody tr th {\n",
       "        vertical-align: top;\n",
       "    }\n",
       "\n",
       "    .dataframe thead th {\n",
       "        text-align: right;\n",
       "    }\n",
       "</style>\n",
       "<table border=\"1\" class=\"dataframe\">\n",
       "  <thead>\n",
       "    <tr style=\"text-align: right;\">\n",
       "      <th></th>\n",
       "      <th>cord_uid</th>\n",
       "      <th>sha</th>\n",
       "      <th>source_x</th>\n",
       "      <th>title</th>\n",
       "      <th>doi</th>\n",
       "      <th>pmcid</th>\n",
       "      <th>pubmed_id</th>\n",
       "      <th>license</th>\n",
       "      <th>abstract</th>\n",
       "      <th>publish_time</th>\n",
       "      <th>authors</th>\n",
       "      <th>journal</th>\n",
       "      <th>mag_id</th>\n",
       "      <th>who_covidence_id</th>\n",
       "      <th>arxiv_id</th>\n",
       "      <th>pdf_json_files</th>\n",
       "      <th>pmc_json_files</th>\n",
       "      <th>url</th>\n",
       "    </tr>\n",
       "  </thead>\n",
       "  <tbody>\n",
       "    <tr>\n",
       "      <th>0</th>\n",
       "      <td>zjufx4fo</td>\n",
       "      <td>b2897e1277f56641193a6db73825f707eed3e4c9</td>\n",
       "      <td>PMC</td>\n",
       "      <td>Sequence requirements for RNA strand transfer ...</td>\n",
       "      <td>10.1093/emboj/20.24.7220</td>\n",
       "      <td>PMC125340</td>\n",
       "      <td>11742998.0</td>\n",
       "      <td>green-oa</td>\n",
       "      <td>Nidovirus subgenomic mRNAs contain a leader se...</td>\n",
       "      <td>2001-12-17</td>\n",
       "      <td>Pasternak, Alexander O.; van den Born, Erwin; ...</td>\n",
       "      <td>The EMBO Journal</td>\n",
       "      <td>NaN</td>\n",
       "      <td>NaN</td>\n",
       "      <td>NaN</td>\n",
       "      <td>document_parses/pdf_json/b2897e1277f56641193a6...</td>\n",
       "      <td>document_parses/pmc_json/PMC125340.xml.json</td>\n",
       "      <td>http://europepmc.org/articles/pmc125340?pdf=re...</td>\n",
       "    </tr>\n",
       "    <tr>\n",
       "      <th>1</th>\n",
       "      <td>ymceytj3</td>\n",
       "      <td>e3d0d482ebd9a8ba81c254cc433f314142e72174</td>\n",
       "      <td>PMC</td>\n",
       "      <td>Crystal structure of murine sCEACAM1a[1,4]: a ...</td>\n",
       "      <td>10.1093/emboj/21.9.2076</td>\n",
       "      <td>PMC125375</td>\n",
       "      <td>11980704.0</td>\n",
       "      <td>green-oa</td>\n",
       "      <td>CEACAM1 is a member of the carcinoembryonic an...</td>\n",
       "      <td>2002-05-01</td>\n",
       "      <td>Tan, Kemin; Zelus, Bruce D.; Meijers, Rob; Liu...</td>\n",
       "      <td>The EMBO Journal</td>\n",
       "      <td>NaN</td>\n",
       "      <td>NaN</td>\n",
       "      <td>NaN</td>\n",
       "      <td>document_parses/pdf_json/e3d0d482ebd9a8ba81c25...</td>\n",
       "      <td>document_parses/pmc_json/PMC125375.xml.json</td>\n",
       "      <td>http://europepmc.org/articles/pmc125375?pdf=re...</td>\n",
       "    </tr>\n",
       "    <tr>\n",
       "      <th>2</th>\n",
       "      <td>wzj2glte</td>\n",
       "      <td>00b1d99e70f779eb4ede50059db469c65e8c1469</td>\n",
       "      <td>PMC</td>\n",
       "      <td>Synthesis of a novel hepatitis C virus protein...</td>\n",
       "      <td>10.1093/emboj/20.14.3840</td>\n",
       "      <td>PMC125543</td>\n",
       "      <td>11447125.0</td>\n",
       "      <td>no-cc</td>\n",
       "      <td>Hepatitis C virus (HCV) is an important human ...</td>\n",
       "      <td>2001-07-16</td>\n",
       "      <td>Xu, Zhenming; Choi, Jinah; Yen, T.S.Benedict; ...</td>\n",
       "      <td>EMBO J</td>\n",
       "      <td>NaN</td>\n",
       "      <td>NaN</td>\n",
       "      <td>NaN</td>\n",
       "      <td>document_parses/pdf_json/00b1d99e70f779eb4ede5...</td>\n",
       "      <td>document_parses/pmc_json/PMC125543.xml.json</td>\n",
       "      <td>https://www.ncbi.nlm.nih.gov/pmc/articles/PMC1...</td>\n",
       "    </tr>\n",
       "    <tr>\n",
       "      <th>3</th>\n",
       "      <td>2sfqsfm1</td>\n",
       "      <td>cf584e00f637cbd8f1bb35f3f09f5ed07b71aeb0</td>\n",
       "      <td>PMC</td>\n",
       "      <td>Structure of coronavirus main proteinase revea...</td>\n",
       "      <td>10.1093/emboj/cdf327</td>\n",
       "      <td>PMC126080</td>\n",
       "      <td>12093723.0</td>\n",
       "      <td>green-oa</td>\n",
       "      <td>The key enzyme in coronavirus polyprotein proc...</td>\n",
       "      <td>2002-07-01</td>\n",
       "      <td>Anand, Kanchan; Palm, Gottfried J.; Mesters, J...</td>\n",
       "      <td>The EMBO Journal</td>\n",
       "      <td>NaN</td>\n",
       "      <td>NaN</td>\n",
       "      <td>NaN</td>\n",
       "      <td>document_parses/pdf_json/cf584e00f637cbd8f1bb3...</td>\n",
       "      <td>document_parses/pmc_json/PMC126080.xml.json</td>\n",
       "      <td>http://europepmc.org/articles/pmc126080?pdf=re...</td>\n",
       "    </tr>\n",
       "    <tr>\n",
       "      <th>4</th>\n",
       "      <td>i0zym7iq</td>\n",
       "      <td>dde02f11923815e6a16a31dd6298c46b109c5dfa</td>\n",
       "      <td>PMC</td>\n",
       "      <td>Discontinuous and non-discontinuous subgenomic...</td>\n",
       "      <td>10.1093/emboj/cdf635</td>\n",
       "      <td>PMC136939</td>\n",
       "      <td>12456663.0</td>\n",
       "      <td>green-oa</td>\n",
       "      <td>Arteri-, corona-, toro- and roniviruses are ev...</td>\n",
       "      <td>2002-12-01</td>\n",
       "      <td>van Vliet, A.L.W.; Smits, S.L.; Rottier, P.J.M...</td>\n",
       "      <td>The EMBO Journal</td>\n",
       "      <td>NaN</td>\n",
       "      <td>NaN</td>\n",
       "      <td>NaN</td>\n",
       "      <td>document_parses/pdf_json/dde02f11923815e6a16a3...</td>\n",
       "      <td>document_parses/pmc_json/PMC136939.xml.json</td>\n",
       "      <td>http://europepmc.org/articles/pmc136939?pdf=re...</td>\n",
       "    </tr>\n",
       "  </tbody>\n",
       "</table>\n",
       "</div>"
      ],
      "text/plain": [
       "   cord_uid                                       sha source_x  \\\n",
       "0  zjufx4fo  b2897e1277f56641193a6db73825f707eed3e4c9      PMC   \n",
       "1  ymceytj3  e3d0d482ebd9a8ba81c254cc433f314142e72174      PMC   \n",
       "2  wzj2glte  00b1d99e70f779eb4ede50059db469c65e8c1469      PMC   \n",
       "3  2sfqsfm1  cf584e00f637cbd8f1bb35f3f09f5ed07b71aeb0      PMC   \n",
       "4  i0zym7iq  dde02f11923815e6a16a31dd6298c46b109c5dfa      PMC   \n",
       "\n",
       "                                               title  \\\n",
       "0  Sequence requirements for RNA strand transfer ...   \n",
       "1  Crystal structure of murine sCEACAM1a[1,4]: a ...   \n",
       "2  Synthesis of a novel hepatitis C virus protein...   \n",
       "3  Structure of coronavirus main proteinase revea...   \n",
       "4  Discontinuous and non-discontinuous subgenomic...   \n",
       "\n",
       "                        doi      pmcid   pubmed_id   license  \\\n",
       "0  10.1093/emboj/20.24.7220  PMC125340  11742998.0  green-oa   \n",
       "1   10.1093/emboj/21.9.2076  PMC125375  11980704.0  green-oa   \n",
       "2  10.1093/emboj/20.14.3840  PMC125543  11447125.0     no-cc   \n",
       "3      10.1093/emboj/cdf327  PMC126080  12093723.0  green-oa   \n",
       "4      10.1093/emboj/cdf635  PMC136939  12456663.0  green-oa   \n",
       "\n",
       "                                            abstract publish_time  \\\n",
       "0  Nidovirus subgenomic mRNAs contain a leader se...   2001-12-17   \n",
       "1  CEACAM1 is a member of the carcinoembryonic an...   2002-05-01   \n",
       "2  Hepatitis C virus (HCV) is an important human ...   2001-07-16   \n",
       "3  The key enzyme in coronavirus polyprotein proc...   2002-07-01   \n",
       "4  Arteri-, corona-, toro- and roniviruses are ev...   2002-12-01   \n",
       "\n",
       "                                             authors           journal  \\\n",
       "0  Pasternak, Alexander O.; van den Born, Erwin; ...  The EMBO Journal   \n",
       "1  Tan, Kemin; Zelus, Bruce D.; Meijers, Rob; Liu...  The EMBO Journal   \n",
       "2  Xu, Zhenming; Choi, Jinah; Yen, T.S.Benedict; ...            EMBO J   \n",
       "3  Anand, Kanchan; Palm, Gottfried J.; Mesters, J...  The EMBO Journal   \n",
       "4  van Vliet, A.L.W.; Smits, S.L.; Rottier, P.J.M...  The EMBO Journal   \n",
       "\n",
       "   mag_id who_covidence_id arxiv_id  \\\n",
       "0     NaN              NaN      NaN   \n",
       "1     NaN              NaN      NaN   \n",
       "2     NaN              NaN      NaN   \n",
       "3     NaN              NaN      NaN   \n",
       "4     NaN              NaN      NaN   \n",
       "\n",
       "                                      pdf_json_files  \\\n",
       "0  document_parses/pdf_json/b2897e1277f56641193a6...   \n",
       "1  document_parses/pdf_json/e3d0d482ebd9a8ba81c25...   \n",
       "2  document_parses/pdf_json/00b1d99e70f779eb4ede5...   \n",
       "3  document_parses/pdf_json/cf584e00f637cbd8f1bb3...   \n",
       "4  document_parses/pdf_json/dde02f11923815e6a16a3...   \n",
       "\n",
       "                                pmc_json_files  \\\n",
       "0  document_parses/pmc_json/PMC125340.xml.json   \n",
       "1  document_parses/pmc_json/PMC125375.xml.json   \n",
       "2  document_parses/pmc_json/PMC125543.xml.json   \n",
       "3  document_parses/pmc_json/PMC126080.xml.json   \n",
       "4  document_parses/pmc_json/PMC136939.xml.json   \n",
       "\n",
       "                                                 url  \n",
       "0  http://europepmc.org/articles/pmc125340?pdf=re...  \n",
       "1  http://europepmc.org/articles/pmc125375?pdf=re...  \n",
       "2  https://www.ncbi.nlm.nih.gov/pmc/articles/PMC1...  \n",
       "3  http://europepmc.org/articles/pmc126080?pdf=re...  \n",
       "4  http://europepmc.org/articles/pmc136939?pdf=re...  "
      ]
     },
     "execution_count": 6,
     "metadata": {},
     "output_type": "execute_result"
    }
   ],
   "source": [
    "df.head()"
   ]
  },
  {
   "cell_type": "markdown",
   "metadata": {},
   "source": [
    "### Keep articles for 2020 year only and having file links - pdf_json_files or pmc_json_files"
   ]
  },
  {
   "cell_type": "code",
   "execution_count": 7,
   "metadata": {},
   "outputs": [
    {
     "data": {
      "text/plain": [
       "(12956, 18)"
      ]
     },
     "execution_count": 7,
     "metadata": {},
     "output_type": "execute_result"
    }
   ],
   "source": [
    "df_2020 = df[(df['publish_time'] >= '2020-01-01') & (df['publish_time'] < pd.to_datetime('now'))]\n",
    "df_2020.shape"
   ]
  },
  {
   "cell_type": "code",
   "execution_count": 8,
   "metadata": {},
   "outputs": [
    {
     "data": {
      "text/plain": [
       "(10223, 18)"
      ]
     },
     "execution_count": 8,
     "metadata": {},
     "output_type": "execute_result"
    }
   ],
   "source": [
    "# Remove records without file links\n",
    "df_2020_wfiles = df_2020.dropna(subset=['pdf_json_files', 'pmc_json_files'], how='all')\n",
    "df_2020_wfiles.shape"
   ]
  },
  {
   "cell_type": "code",
   "execution_count": 9,
   "metadata": {},
   "outputs": [
    {
     "data": {
      "text/html": [
       "<div>\n",
       "<style scoped>\n",
       "    .dataframe tbody tr th:only-of-type {\n",
       "        vertical-align: middle;\n",
       "    }\n",
       "\n",
       "    .dataframe tbody tr th {\n",
       "        vertical-align: top;\n",
       "    }\n",
       "\n",
       "    .dataframe thead th {\n",
       "        text-align: right;\n",
       "    }\n",
       "</style>\n",
       "<table border=\"1\" class=\"dataframe\">\n",
       "  <thead>\n",
       "    <tr style=\"text-align: right;\">\n",
       "      <th></th>\n",
       "      <th>cord_uid</th>\n",
       "      <th>sha</th>\n",
       "      <th>source_x</th>\n",
       "      <th>title</th>\n",
       "      <th>doi</th>\n",
       "      <th>pmcid</th>\n",
       "      <th>pubmed_id</th>\n",
       "      <th>license</th>\n",
       "      <th>abstract</th>\n",
       "      <th>publish_time</th>\n",
       "      <th>authors</th>\n",
       "      <th>journal</th>\n",
       "      <th>mag_id</th>\n",
       "      <th>who_covidence_id</th>\n",
       "      <th>arxiv_id</th>\n",
       "      <th>pdf_json_files</th>\n",
       "      <th>pmc_json_files</th>\n",
       "      <th>url</th>\n",
       "    </tr>\n",
       "  </thead>\n",
       "  <tbody>\n",
       "    <tr>\n",
       "      <th>count</th>\n",
       "      <td>10223</td>\n",
       "      <td>10049</td>\n",
       "      <td>10223</td>\n",
       "      <td>10221</td>\n",
       "      <td>9340</td>\n",
       "      <td>3150</td>\n",
       "      <td>2.443000e+03</td>\n",
       "      <td>10223</td>\n",
       "      <td>7205</td>\n",
       "      <td>10223</td>\n",
       "      <td>10152</td>\n",
       "      <td>6425</td>\n",
       "      <td>4.710000e+02</td>\n",
       "      <td>679</td>\n",
       "      <td>890</td>\n",
       "      <td>10049</td>\n",
       "      <td>2771</td>\n",
       "      <td>8260</td>\n",
       "    </tr>\n",
       "    <tr>\n",
       "      <th>unique</th>\n",
       "      <td>10221</td>\n",
       "      <td>10048</td>\n",
       "      <td>20</td>\n",
       "      <td>10093</td>\n",
       "      <td>9338</td>\n",
       "      <td>3150</td>\n",
       "      <td>NaN</td>\n",
       "      <td>15</td>\n",
       "      <td>7173</td>\n",
       "      <td>132</td>\n",
       "      <td>9912</td>\n",
       "      <td>1563</td>\n",
       "      <td>NaN</td>\n",
       "      <td>679</td>\n",
       "      <td>890</td>\n",
       "      <td>10048</td>\n",
       "      <td>2771</td>\n",
       "      <td>8260</td>\n",
       "    </tr>\n",
       "    <tr>\n",
       "      <th>top</th>\n",
       "      <td>j3b964oz</td>\n",
       "      <td>58be092086c74c58e9067121a6ba4836468e7ec3</td>\n",
       "      <td>Elsevier</td>\n",
       "      <td>Antihypertensive drugs and risk of COVID-19?</td>\n",
       "      <td>10.1097/jcma.0000000000000270</td>\n",
       "      <td>PMC7002373</td>\n",
       "      <td>NaN</td>\n",
       "      <td>els-covid</td>\n",
       "      <td>Fast testing can help mitigate the coronavirus...</td>\n",
       "      <td>2020-04-30 00:00:00</td>\n",
       "      <td>Augoustides, John G.</td>\n",
       "      <td>Journal of Infection</td>\n",
       "      <td>NaN</td>\n",
       "      <td>#6460</td>\n",
       "      <td>2003.09032</td>\n",
       "      <td>document_parses/pdf_json/58be092086c74c58e9067...</td>\n",
       "      <td>document_parses/pmc_json/PMC7128205.xml.json</td>\n",
       "      <td>https://doi.org/10.1101/2020.04.03.20052936</td>\n",
       "    </tr>\n",
       "    <tr>\n",
       "      <th>freq</th>\n",
       "      <td>2</td>\n",
       "      <td>2</td>\n",
       "      <td>3365</td>\n",
       "      <td>3</td>\n",
       "      <td>2</td>\n",
       "      <td>1</td>\n",
       "      <td>NaN</td>\n",
       "      <td>3799</td>\n",
       "      <td>3</td>\n",
       "      <td>387</td>\n",
       "      <td>7</td>\n",
       "      <td>117</td>\n",
       "      <td>NaN</td>\n",
       "      <td>1</td>\n",
       "      <td>1</td>\n",
       "      <td>2</td>\n",
       "      <td>1</td>\n",
       "      <td>1</td>\n",
       "    </tr>\n",
       "    <tr>\n",
       "      <th>first</th>\n",
       "      <td>NaN</td>\n",
       "      <td>NaN</td>\n",
       "      <td>NaN</td>\n",
       "      <td>NaN</td>\n",
       "      <td>NaN</td>\n",
       "      <td>NaN</td>\n",
       "      <td>NaN</td>\n",
       "      <td>NaN</td>\n",
       "      <td>NaN</td>\n",
       "      <td>2020-01-01 00:00:00</td>\n",
       "      <td>NaN</td>\n",
       "      <td>NaN</td>\n",
       "      <td>NaN</td>\n",
       "      <td>NaN</td>\n",
       "      <td>NaN</td>\n",
       "      <td>NaN</td>\n",
       "      <td>NaN</td>\n",
       "      <td>NaN</td>\n",
       "    </tr>\n",
       "    <tr>\n",
       "      <th>last</th>\n",
       "      <td>NaN</td>\n",
       "      <td>NaN</td>\n",
       "      <td>NaN</td>\n",
       "      <td>NaN</td>\n",
       "      <td>NaN</td>\n",
       "      <td>NaN</td>\n",
       "      <td>NaN</td>\n",
       "      <td>NaN</td>\n",
       "      <td>NaN</td>\n",
       "      <td>2020-05-20 00:00:00</td>\n",
       "      <td>NaN</td>\n",
       "      <td>NaN</td>\n",
       "      <td>NaN</td>\n",
       "      <td>NaN</td>\n",
       "      <td>NaN</td>\n",
       "      <td>NaN</td>\n",
       "      <td>NaN</td>\n",
       "      <td>NaN</td>\n",
       "    </tr>\n",
       "    <tr>\n",
       "      <th>mean</th>\n",
       "      <td>NaN</td>\n",
       "      <td>NaN</td>\n",
       "      <td>NaN</td>\n",
       "      <td>NaN</td>\n",
       "      <td>NaN</td>\n",
       "      <td>NaN</td>\n",
       "      <td>3.216545e+07</td>\n",
       "      <td>NaN</td>\n",
       "      <td>NaN</td>\n",
       "      <td>NaN</td>\n",
       "      <td>NaN</td>\n",
       "      <td>NaN</td>\n",
       "      <td>2.761645e+09</td>\n",
       "      <td>NaN</td>\n",
       "      <td>NaN</td>\n",
       "      <td>NaN</td>\n",
       "      <td>NaN</td>\n",
       "      <td>NaN</td>\n",
       "    </tr>\n",
       "    <tr>\n",
       "      <th>std</th>\n",
       "      <td>NaN</td>\n",
       "      <td>NaN</td>\n",
       "      <td>NaN</td>\n",
       "      <td>NaN</td>\n",
       "      <td>NaN</td>\n",
       "      <td>NaN</td>\n",
       "      <td>1.762798e+05</td>\n",
       "      <td>NaN</td>\n",
       "      <td>NaN</td>\n",
       "      <td>NaN</td>\n",
       "      <td>NaN</td>\n",
       "      <td>NaN</td>\n",
       "      <td>4.535992e+08</td>\n",
       "      <td>NaN</td>\n",
       "      <td>NaN</td>\n",
       "      <td>NaN</td>\n",
       "      <td>NaN</td>\n",
       "      <td>NaN</td>\n",
       "    </tr>\n",
       "    <tr>\n",
       "      <th>min</th>\n",
       "      <td>NaN</td>\n",
       "      <td>NaN</td>\n",
       "      <td>NaN</td>\n",
       "      <td>NaN</td>\n",
       "      <td>NaN</td>\n",
       "      <td>NaN</td>\n",
       "      <td>3.055286e+07</td>\n",
       "      <td>NaN</td>\n",
       "      <td>NaN</td>\n",
       "      <td>NaN</td>\n",
       "      <td>NaN</td>\n",
       "      <td>NaN</td>\n",
       "      <td>3.912630e+07</td>\n",
       "      <td>NaN</td>\n",
       "      <td>NaN</td>\n",
       "      <td>NaN</td>\n",
       "      <td>NaN</td>\n",
       "      <td>NaN</td>\n",
       "    </tr>\n",
       "    <tr>\n",
       "      <th>25%</th>\n",
       "      <td>NaN</td>\n",
       "      <td>NaN</td>\n",
       "      <td>NaN</td>\n",
       "      <td>NaN</td>\n",
       "      <td>NaN</td>\n",
       "      <td>NaN</td>\n",
       "      <td>3.209104e+07</td>\n",
       "      <td>NaN</td>\n",
       "      <td>NaN</td>\n",
       "      <td>NaN</td>\n",
       "      <td>NaN</td>\n",
       "      <td>NaN</td>\n",
       "      <td>2.748444e+09</td>\n",
       "      <td>NaN</td>\n",
       "      <td>NaN</td>\n",
       "      <td>NaN</td>\n",
       "      <td>NaN</td>\n",
       "      <td>NaN</td>\n",
       "    </tr>\n",
       "    <tr>\n",
       "      <th>50%</th>\n",
       "      <td>NaN</td>\n",
       "      <td>NaN</td>\n",
       "      <td>NaN</td>\n",
       "      <td>NaN</td>\n",
       "      <td>NaN</td>\n",
       "      <td>NaN</td>\n",
       "      <td>3.220564e+07</td>\n",
       "      <td>NaN</td>\n",
       "      <td>NaN</td>\n",
       "      <td>NaN</td>\n",
       "      <td>NaN</td>\n",
       "      <td>NaN</td>\n",
       "      <td>3.004072e+09</td>\n",
       "      <td>NaN</td>\n",
       "      <td>NaN</td>\n",
       "      <td>NaN</td>\n",
       "      <td>NaN</td>\n",
       "      <td>NaN</td>\n",
       "    </tr>\n",
       "    <tr>\n",
       "      <th>75%</th>\n",
       "      <td>NaN</td>\n",
       "      <td>NaN</td>\n",
       "      <td>NaN</td>\n",
       "      <td>NaN</td>\n",
       "      <td>NaN</td>\n",
       "      <td>NaN</td>\n",
       "      <td>3.228706e+07</td>\n",
       "      <td>NaN</td>\n",
       "      <td>NaN</td>\n",
       "      <td>NaN</td>\n",
       "      <td>NaN</td>\n",
       "      <td>NaN</td>\n",
       "      <td>3.005680e+09</td>\n",
       "      <td>NaN</td>\n",
       "      <td>NaN</td>\n",
       "      <td>NaN</td>\n",
       "      <td>NaN</td>\n",
       "      <td>NaN</td>\n",
       "    </tr>\n",
       "    <tr>\n",
       "      <th>max</th>\n",
       "      <td>NaN</td>\n",
       "      <td>NaN</td>\n",
       "      <td>NaN</td>\n",
       "      <td>NaN</td>\n",
       "      <td>NaN</td>\n",
       "      <td>NaN</td>\n",
       "      <td>3.237440e+07</td>\n",
       "      <td>NaN</td>\n",
       "      <td>NaN</td>\n",
       "      <td>NaN</td>\n",
       "      <td>NaN</td>\n",
       "      <td>NaN</td>\n",
       "      <td>3.006672e+09</td>\n",
       "      <td>NaN</td>\n",
       "      <td>NaN</td>\n",
       "      <td>NaN</td>\n",
       "      <td>NaN</td>\n",
       "      <td>NaN</td>\n",
       "    </tr>\n",
       "  </tbody>\n",
       "</table>\n",
       "</div>"
      ],
      "text/plain": [
       "        cord_uid                                       sha  source_x  \\\n",
       "count      10223                                     10049     10223   \n",
       "unique     10221                                     10048        20   \n",
       "top     j3b964oz  58be092086c74c58e9067121a6ba4836468e7ec3  Elsevier   \n",
       "freq           2                                         2      3365   \n",
       "first        NaN                                       NaN       NaN   \n",
       "last         NaN                                       NaN       NaN   \n",
       "mean         NaN                                       NaN       NaN   \n",
       "std          NaN                                       NaN       NaN   \n",
       "min          NaN                                       NaN       NaN   \n",
       "25%          NaN                                       NaN       NaN   \n",
       "50%          NaN                                       NaN       NaN   \n",
       "75%          NaN                                       NaN       NaN   \n",
       "max          NaN                                       NaN       NaN   \n",
       "\n",
       "                                               title  \\\n",
       "count                                          10221   \n",
       "unique                                         10093   \n",
       "top     Antihypertensive drugs and risk of COVID-19?   \n",
       "freq                                               3   \n",
       "first                                            NaN   \n",
       "last                                             NaN   \n",
       "mean                                             NaN   \n",
       "std                                              NaN   \n",
       "min                                              NaN   \n",
       "25%                                              NaN   \n",
       "50%                                              NaN   \n",
       "75%                                              NaN   \n",
       "max                                              NaN   \n",
       "\n",
       "                                  doi       pmcid     pubmed_id    license  \\\n",
       "count                            9340        3150  2.443000e+03      10223   \n",
       "unique                           9338        3150           NaN         15   \n",
       "top     10.1097/jcma.0000000000000270  PMC7002373           NaN  els-covid   \n",
       "freq                                2           1           NaN       3799   \n",
       "first                             NaN         NaN           NaN        NaN   \n",
       "last                              NaN         NaN           NaN        NaN   \n",
       "mean                              NaN         NaN  3.216545e+07        NaN   \n",
       "std                               NaN         NaN  1.762798e+05        NaN   \n",
       "min                               NaN         NaN  3.055286e+07        NaN   \n",
       "25%                               NaN         NaN  3.209104e+07        NaN   \n",
       "50%                               NaN         NaN  3.220564e+07        NaN   \n",
       "75%                               NaN         NaN  3.228706e+07        NaN   \n",
       "max                               NaN         NaN  3.237440e+07        NaN   \n",
       "\n",
       "                                                 abstract  \\\n",
       "count                                                7205   \n",
       "unique                                               7173   \n",
       "top     Fast testing can help mitigate the coronavirus...   \n",
       "freq                                                    3   \n",
       "first                                                 NaN   \n",
       "last                                                  NaN   \n",
       "mean                                                  NaN   \n",
       "std                                                   NaN   \n",
       "min                                                   NaN   \n",
       "25%                                                   NaN   \n",
       "50%                                                   NaN   \n",
       "75%                                                   NaN   \n",
       "max                                                   NaN   \n",
       "\n",
       "               publish_time               authors               journal  \\\n",
       "count                 10223                 10152                  6425   \n",
       "unique                  132                  9912                  1563   \n",
       "top     2020-04-30 00:00:00  Augoustides, John G.  Journal of Infection   \n",
       "freq                    387                     7                   117   \n",
       "first   2020-01-01 00:00:00                   NaN                   NaN   \n",
       "last    2020-05-20 00:00:00                   NaN                   NaN   \n",
       "mean                    NaN                   NaN                   NaN   \n",
       "std                     NaN                   NaN                   NaN   \n",
       "min                     NaN                   NaN                   NaN   \n",
       "25%                     NaN                   NaN                   NaN   \n",
       "50%                     NaN                   NaN                   NaN   \n",
       "75%                     NaN                   NaN                   NaN   \n",
       "max                     NaN                   NaN                   NaN   \n",
       "\n",
       "              mag_id who_covidence_id    arxiv_id  \\\n",
       "count   4.710000e+02              679         890   \n",
       "unique           NaN              679         890   \n",
       "top              NaN            #6460  2003.09032   \n",
       "freq             NaN                1           1   \n",
       "first            NaN              NaN         NaN   \n",
       "last             NaN              NaN         NaN   \n",
       "mean    2.761645e+09              NaN         NaN   \n",
       "std     4.535992e+08              NaN         NaN   \n",
       "min     3.912630e+07              NaN         NaN   \n",
       "25%     2.748444e+09              NaN         NaN   \n",
       "50%     3.004072e+09              NaN         NaN   \n",
       "75%     3.005680e+09              NaN         NaN   \n",
       "max     3.006672e+09              NaN         NaN   \n",
       "\n",
       "                                           pdf_json_files  \\\n",
       "count                                               10049   \n",
       "unique                                              10048   \n",
       "top     document_parses/pdf_json/58be092086c74c58e9067...   \n",
       "freq                                                    2   \n",
       "first                                                 NaN   \n",
       "last                                                  NaN   \n",
       "mean                                                  NaN   \n",
       "std                                                   NaN   \n",
       "min                                                   NaN   \n",
       "25%                                                   NaN   \n",
       "50%                                                   NaN   \n",
       "75%                                                   NaN   \n",
       "max                                                   NaN   \n",
       "\n",
       "                                      pmc_json_files  \\\n",
       "count                                           2771   \n",
       "unique                                          2771   \n",
       "top     document_parses/pmc_json/PMC7128205.xml.json   \n",
       "freq                                               1   \n",
       "first                                            NaN   \n",
       "last                                             NaN   \n",
       "mean                                             NaN   \n",
       "std                                              NaN   \n",
       "min                                              NaN   \n",
       "25%                                              NaN   \n",
       "50%                                              NaN   \n",
       "75%                                              NaN   \n",
       "max                                              NaN   \n",
       "\n",
       "                                                url  \n",
       "count                                          8260  \n",
       "unique                                         8260  \n",
       "top     https://doi.org/10.1101/2020.04.03.20052936  \n",
       "freq                                              1  \n",
       "first                                           NaN  \n",
       "last                                            NaN  \n",
       "mean                                            NaN  \n",
       "std                                             NaN  \n",
       "min                                             NaN  \n",
       "25%                                             NaN  \n",
       "50%                                             NaN  \n",
       "75%                                             NaN  \n",
       "max                                             NaN  "
      ]
     },
     "execution_count": 9,
     "metadata": {},
     "output_type": "execute_result"
    }
   ],
   "source": [
    "df_2020_wfiles.describe(include='all')"
   ]
  },
  {
   "cell_type": "markdown",
   "metadata": {},
   "source": [
    "### Select files for analysis  - PMC files first then PDF files"
   ]
  },
  {
   "cell_type": "markdown",
   "metadata": {},
   "source": [
    "Select PMC JSON files first as more clearly parsed"
   ]
  },
  {
   "cell_type": "code",
   "execution_count": 10,
   "metadata": {},
   "outputs": [
    {
     "data": {
      "text/plain": [
       "2771"
      ]
     },
     "execution_count": 10,
     "metadata": {},
     "output_type": "execute_result"
    }
   ],
   "source": [
    "pmc_files = df_2020_wfiles[df_2020_wfiles['pmc_json_files'].notnull()]['pmc_json_files'].to_list()\n",
    "len(pmc_files)"
   ]
  },
  {
   "cell_type": "markdown",
   "metadata": {},
   "source": [
    "Select PDF JSON files"
   ]
  },
  {
   "cell_type": "code",
   "execution_count": 11,
   "metadata": {},
   "outputs": [
    {
     "data": {
      "text/plain": [
       "7452"
      ]
     },
     "execution_count": 11,
     "metadata": {},
     "output_type": "execute_result"
    }
   ],
   "source": [
    "pdf_files_df =  df_2020_wfiles[df_2020_wfiles['pmc_json_files'].isnull()]\n",
    "pdf_files_df = pdf_files_df.dropna(subset=['pdf_json_files'])\n",
    "pdf_files = pdf_files_df['pdf_json_files'].to_list()\n",
    "len(pdf_files)"
   ]
  },
  {
   "cell_type": "markdown",
   "metadata": {},
   "source": [
    "*pdf_json_files* column may contain several file names joined by ; - split such strings <br/>\n",
    "Split PDF JSON file names"
   ]
  },
  {
   "cell_type": "code",
   "execution_count": 12,
   "metadata": {},
   "outputs": [
    {
     "name": "stdout",
     "output_type": "stream",
     "text": [
      "10258\n",
      "10258\n",
      "['F:/COVID19/Covid-19 May 16/document_parses/pmc_json/PMC6924889.xml.json', 'F:/COVID19/Covid-19 May 16/document_parses/pmc_json/PMC6924891.xml.json', 'F:/COVID19/Covid-19 May 16/document_parses/pmc_json/PMC6924894.xml.json', 'F:/COVID19/Covid-19 May 16/document_parses/pmc_json/PMC6924913.xml.json', 'F:/COVID19/Covid-19 May 16/document_parses/pmc_json/PMC6938705.xml.json']\n"
     ]
    }
   ],
   "source": [
    "files_for_analysis = pmc_files + pdf_files\n",
    "files_for_analysis_splitted = [y for x in files_for_analysis for y in x.split(';')]\n",
    "print(len(files_for_analysis_splitted))\n",
    "files_for_analysis = ['{0}{1}'.format(COVID19_FILES_DIR, element.strip()) for element in files_for_analysis_splitted]\n",
    "print(len(files_for_analysis))\n",
    "print(files_for_analysis[:5])"
   ]
  },
  {
   "cell_type": "code",
   "execution_count": 13,
   "metadata": {},
   "outputs": [],
   "source": [
    "## Copy 2020 year files into seperate folder \n",
    "#files_2020 = {}\n",
    "#for file in files_for_analysis:\n",
    "#    head, tail = os.path.split(file)\n",
    "#    copyfile(file, COVID19_FILES_2020_DIR + tail)"
   ]
  },
  {
   "cell_type": "markdown",
   "metadata": {},
   "source": [
    "Define publication date"
   ]
  },
  {
   "cell_type": "code",
   "execution_count": 14,
   "metadata": {},
   "outputs": [
    {
     "data": {
      "text/html": [
       "<div>\n",
       "<style scoped>\n",
       "    .dataframe tbody tr th:only-of-type {\n",
       "        vertical-align: middle;\n",
       "    }\n",
       "\n",
       "    .dataframe tbody tr th {\n",
       "        vertical-align: top;\n",
       "    }\n",
       "\n",
       "    .dataframe thead th {\n",
       "        text-align: right;\n",
       "    }\n",
       "</style>\n",
       "<table border=\"1\" class=\"dataframe\">\n",
       "  <thead>\n",
       "    <tr style=\"text-align: right;\">\n",
       "      <th></th>\n",
       "      <th>sha</th>\n",
       "      <th>pmcid</th>\n",
       "      <th>publish_time</th>\n",
       "    </tr>\n",
       "  </thead>\n",
       "  <tbody>\n",
       "    <tr>\n",
       "      <th>12171</th>\n",
       "      <td>3dfce0f1586b904eb6afcda376c0295d3de6c295</td>\n",
       "      <td>PMC6924889</td>\n",
       "      <td>2020-01-12</td>\n",
       "    </tr>\n",
       "    <tr>\n",
       "      <th>12172</th>\n",
       "      <td>7d102f0d9bd25cf5ac225ae0312a2f6c66f4b9a5</td>\n",
       "      <td>PMC6924891</td>\n",
       "      <td>2020-01-12</td>\n",
       "    </tr>\n",
       "    <tr>\n",
       "      <th>12173</th>\n",
       "      <td>05326cc45fa2898c5850df85d30dad3d2c82acef; 5147...</td>\n",
       "      <td>PMC6924894</td>\n",
       "      <td>2020-01-12</td>\n",
       "    </tr>\n",
       "    <tr>\n",
       "      <th>12174</th>\n",
       "      <td>724be3f77bbbdcc7e73de43f4cfe22335ffb9ef9; 11a2...</td>\n",
       "      <td>PMC6924913</td>\n",
       "      <td>2020-01-12</td>\n",
       "    </tr>\n",
       "    <tr>\n",
       "      <th>12211</th>\n",
       "      <td>a4490fc5ca8fea133b9a5beb9258df89cf4945b6</td>\n",
       "      <td>PMC6938705</td>\n",
       "      <td>2020-01-01</td>\n",
       "    </tr>\n",
       "  </tbody>\n",
       "</table>\n",
       "</div>"
      ],
      "text/plain": [
       "                                                     sha       pmcid  \\\n",
       "12171           3dfce0f1586b904eb6afcda376c0295d3de6c295  PMC6924889   \n",
       "12172           7d102f0d9bd25cf5ac225ae0312a2f6c66f4b9a5  PMC6924891   \n",
       "12173  05326cc45fa2898c5850df85d30dad3d2c82acef; 5147...  PMC6924894   \n",
       "12174  724be3f77bbbdcc7e73de43f4cfe22335ffb9ef9; 11a2...  PMC6924913   \n",
       "12211           a4490fc5ca8fea133b9a5beb9258df89cf4945b6  PMC6938705   \n",
       "\n",
       "      publish_time  \n",
       "12171   2020-01-12  \n",
       "12172   2020-01-12  \n",
       "12173   2020-01-12  \n",
       "12174   2020-01-12  \n",
       "12211   2020-01-01  "
      ]
     },
     "execution_count": 14,
     "metadata": {},
     "output_type": "execute_result"
    }
   ],
   "source": [
    "df_metadata_date = df_2020_wfiles[['sha', 'pmcid', 'publish_time']]\n",
    "df_metadata_date.head()"
   ]
  },
  {
   "cell_type": "markdown",
   "metadata": {},
   "source": [
    "Define publication date for each PMC and PDF files"
   ]
  },
  {
   "cell_type": "code",
   "execution_count": 15,
   "metadata": {},
   "outputs": [],
   "source": [
    "sha_list = dict(zip(df_metadata_date['sha'], df_metadata_date['publish_time']))\n",
    "sha_list_s ={} \n",
    "for key, value in sha_list.items():\n",
    "        try:    \n",
    "          strs = key.split(';')\n",
    "          if len(strs) > 1:\n",
    "           for i in strs:\n",
    "               sha_list_s[i.strip()] = value\n",
    "          else:\n",
    "           sha_list_s[key] = value\n",
    "        except:\n",
    "            continue\n",
    "    \n",
    "pmcid_list = dict(zip(df_metadata_date['pmcid'], df_metadata_date['publish_time']))"
   ]
  },
  {
   "cell_type": "code",
   "execution_count": 16,
   "metadata": {},
   "outputs": [],
   "source": [
    "def get_publish_date(paper_id):\n",
    "    if paper_id in sha_list_s:\n",
    "        return sha_list_s.get(paper_id)\n",
    "    if paper_id in pmcid_list:\n",
    "        return pmcid_list.get(paper_id)"
   ]
  },
  {
   "cell_type": "markdown",
   "metadata": {},
   "source": [
    "### Create Cleaned CSV file with  Document ID, Authors, Publication date, Abstract Text and Full Text"
   ]
  },
  {
   "cell_type": "code",
   "execution_count": 17,
   "metadata": {},
   "outputs": [],
   "source": [
    "# Normalize Authors \n",
    "def format_authors(json_data):\n",
    "    result =\"\"\n",
    "    for author in json_data:\n",
    "        if len(author['suffix']) == 0:\n",
    "            if len(result) > 0:\n",
    "                result = result + \"; \" + author['first'] + ' ' + author['last']\n",
    "            else:\n",
    "                result = author['first'] + ' ' + author['last']\n",
    "        else:\n",
    "             if len(result) > 0:\n",
    "                result = result + \"; \" + author['first'] + ' ' + author['suffix'] + ' ' + author['last']\n",
    "             else:\n",
    "                result = author['first'] + ' ' + author['suffix'] + ' ' + author['last']\n",
    "    return result"
   ]
  },
  {
   "cell_type": "markdown",
   "metadata": {},
   "source": [
    "Combine Full text body and make CSV file"
   ]
  },
  {
   "cell_type": "code",
   "execution_count": 18,
   "metadata": {},
   "outputs": [],
   "source": [
    "csv_modified = []\n",
    "sections = []\n",
    "for filename in files_for_analysis:\n",
    "        row = {\"paper_id\": None, \"publish_date\": None, \"title\": None, 'authors': None, \"abstract\": None, \"text\": None}\n",
    "        with open(filename) as json_file:\n",
    "            json_data = json.load(json_file)\n",
    "            row['paper_id'] = json_data['paper_id']\n",
    "            row['publish_date'] = get_publish_date(json_data['paper_id'])\n",
    "            row['title'] = json_data['metadata']['title']     \n",
    "            row['authors'] = format_authors(json_data['metadata']['authors'])\n",
    "            # abstracts\n",
    "            try:\n",
    "                abstracts = [a['text'] for a in json_data['abstract']]\n",
    "            except KeyError:\n",
    "                abstracts = None\n",
    "            if abstracts:\n",
    "                abstract = \"\\n\".join(abstracts)\n",
    "                row['abstract'] = abstract\n",
    "            else:\n",
    "                row['abstract'] = ''\n",
    "            \n",
    "            # main text with sections\n",
    "            texts = [(body['section'], body['text']) for body in json_data['body_text']]           \n",
    "            texts_summary = {body['section']: \"\" for body in json_data['body_text']}\n",
    "            for section, text in texts:\n",
    "                texts_summary[section] += text\n",
    "                sections.append(section)\n",
    "            body = \"\"\n",
    "            for section, text in texts_summary.items():\n",
    "                body += section\n",
    "                body += \"\\n\"\n",
    "                body += text\n",
    "                body += \"\\n\\n\"\n",
    "            row['text'] = body\n",
    "        csv_modified.append(row)            "
   ]
  },
  {
   "cell_type": "markdown",
   "metadata": {},
   "source": [
    "Clean duplicates by Publish date, Authors, Title and Abstract text"
   ]
  },
  {
   "cell_type": "code",
   "execution_count": 19,
   "metadata": {},
   "outputs": [
    {
     "data": {
      "text/html": [
       "<div>\n",
       "<style scoped>\n",
       "    .dataframe tbody tr th:only-of-type {\n",
       "        vertical-align: middle;\n",
       "    }\n",
       "\n",
       "    .dataframe tbody tr th {\n",
       "        vertical-align: top;\n",
       "    }\n",
       "\n",
       "    .dataframe thead th {\n",
       "        text-align: right;\n",
       "    }\n",
       "</style>\n",
       "<table border=\"1\" class=\"dataframe\">\n",
       "  <thead>\n",
       "    <tr style=\"text-align: right;\">\n",
       "      <th></th>\n",
       "      <th>paper_id</th>\n",
       "      <th>publish_date</th>\n",
       "      <th>title</th>\n",
       "      <th>authors</th>\n",
       "      <th>abstract</th>\n",
       "      <th>text</th>\n",
       "    </tr>\n",
       "  </thead>\n",
       "  <tbody>\n",
       "    <tr>\n",
       "      <th>count</th>\n",
       "      <td>9812</td>\n",
       "      <td>9812</td>\n",
       "      <td>9812</td>\n",
       "      <td>9812</td>\n",
       "      <td>9812</td>\n",
       "      <td>9812</td>\n",
       "    </tr>\n",
       "    <tr>\n",
       "      <th>unique</th>\n",
       "      <td>9812</td>\n",
       "      <td>132</td>\n",
       "      <td>8859</td>\n",
       "      <td>9132</td>\n",
       "      <td>4559</td>\n",
       "      <td>9785</td>\n",
       "    </tr>\n",
       "    <tr>\n",
       "      <th>top</th>\n",
       "      <td>0bd443591b5e10934beef050b516afeca6b668fe</td>\n",
       "      <td>2020-04-30 00:00:00</td>\n",
       "      <td></td>\n",
       "      <td></td>\n",
       "      <td></td>\n",
       "      <td>Disclosures\\nThe authors have no personal, fin...</td>\n",
       "    </tr>\n",
       "    <tr>\n",
       "      <th>freq</th>\n",
       "      <td>1</td>\n",
       "      <td>365</td>\n",
       "      <td>679</td>\n",
       "      <td>384</td>\n",
       "      <td>5179</td>\n",
       "      <td>6</td>\n",
       "    </tr>\n",
       "    <tr>\n",
       "      <th>first</th>\n",
       "      <td>NaN</td>\n",
       "      <td>2020-01-01 00:00:00</td>\n",
       "      <td>NaN</td>\n",
       "      <td>NaN</td>\n",
       "      <td>NaN</td>\n",
       "      <td>NaN</td>\n",
       "    </tr>\n",
       "    <tr>\n",
       "      <th>last</th>\n",
       "      <td>NaN</td>\n",
       "      <td>2020-05-20 00:00:00</td>\n",
       "      <td>NaN</td>\n",
       "      <td>NaN</td>\n",
       "      <td>NaN</td>\n",
       "      <td>NaN</td>\n",
       "    </tr>\n",
       "  </tbody>\n",
       "</table>\n",
       "</div>"
      ],
      "text/plain": [
       "                                        paper_id         publish_date title  \\\n",
       "count                                       9812                 9812  9812   \n",
       "unique                                      9812                  132  8859   \n",
       "top     0bd443591b5e10934beef050b516afeca6b668fe  2020-04-30 00:00:00         \n",
       "freq                                           1                  365   679   \n",
       "first                                        NaN  2020-01-01 00:00:00   NaN   \n",
       "last                                         NaN  2020-05-20 00:00:00   NaN   \n",
       "\n",
       "       authors abstract                                               text  \n",
       "count     9812     9812                                               9812  \n",
       "unique    9132     4559                                               9785  \n",
       "top                      Disclosures\\nThe authors have no personal, fin...  \n",
       "freq       384     5179                                                  6  \n",
       "first      NaN      NaN                                                NaN  \n",
       "last       NaN      NaN                                                NaN  "
      ]
     },
     "execution_count": 19,
     "metadata": {},
     "output_type": "execute_result"
    }
   ],
   "source": [
    "df_results = pd.json_normalize(csv_modified)\n",
    "df_2020_clean_results = df_results.drop_duplicates(['publish_date','authors', 'title', 'abstract'])\n",
    "df_2020_clean_results.describe(include='all')"
   ]
  },
  {
   "cell_type": "markdown",
   "metadata": {},
   "source": [
    "Clean duplicates by Full text"
   ]
  },
  {
   "cell_type": "code",
   "execution_count": 20,
   "metadata": {},
   "outputs": [
    {
     "data": {
      "text/html": [
       "<div>\n",
       "<style scoped>\n",
       "    .dataframe tbody tr th:only-of-type {\n",
       "        vertical-align: middle;\n",
       "    }\n",
       "\n",
       "    .dataframe tbody tr th {\n",
       "        vertical-align: top;\n",
       "    }\n",
       "\n",
       "    .dataframe thead th {\n",
       "        text-align: right;\n",
       "    }\n",
       "</style>\n",
       "<table border=\"1\" class=\"dataframe\">\n",
       "  <thead>\n",
       "    <tr style=\"text-align: right;\">\n",
       "      <th></th>\n",
       "      <th>paper_id</th>\n",
       "      <th>publish_date</th>\n",
       "      <th>title</th>\n",
       "      <th>authors</th>\n",
       "      <th>abstract</th>\n",
       "      <th>text</th>\n",
       "    </tr>\n",
       "  </thead>\n",
       "  <tbody>\n",
       "    <tr>\n",
       "      <th>count</th>\n",
       "      <td>9785</td>\n",
       "      <td>9785</td>\n",
       "      <td>9785</td>\n",
       "      <td>9785</td>\n",
       "      <td>9785</td>\n",
       "      <td>9785</td>\n",
       "    </tr>\n",
       "    <tr>\n",
       "      <th>unique</th>\n",
       "      <td>9785</td>\n",
       "      <td>132</td>\n",
       "      <td>8838</td>\n",
       "      <td>9114</td>\n",
       "      <td>4557</td>\n",
       "      <td>9785</td>\n",
       "    </tr>\n",
       "    <tr>\n",
       "      <th>top</th>\n",
       "      <td>0bd443591b5e10934beef050b516afeca6b668fe</td>\n",
       "      <td>2020-04-30 00:00:00</td>\n",
       "      <td></td>\n",
       "      <td></td>\n",
       "      <td></td>\n",
       "      <td>\\nproduced when an infected person sneezes and...</td>\n",
       "    </tr>\n",
       "    <tr>\n",
       "      <th>freq</th>\n",
       "      <td>1</td>\n",
       "      <td>365</td>\n",
       "      <td>677</td>\n",
       "      <td>383</td>\n",
       "      <td>5157</td>\n",
       "      <td>1</td>\n",
       "    </tr>\n",
       "    <tr>\n",
       "      <th>first</th>\n",
       "      <td>NaN</td>\n",
       "      <td>2020-01-01 00:00:00</td>\n",
       "      <td>NaN</td>\n",
       "      <td>NaN</td>\n",
       "      <td>NaN</td>\n",
       "      <td>NaN</td>\n",
       "    </tr>\n",
       "    <tr>\n",
       "      <th>last</th>\n",
       "      <td>NaN</td>\n",
       "      <td>2020-05-20 00:00:00</td>\n",
       "      <td>NaN</td>\n",
       "      <td>NaN</td>\n",
       "      <td>NaN</td>\n",
       "      <td>NaN</td>\n",
       "    </tr>\n",
       "  </tbody>\n",
       "</table>\n",
       "</div>"
      ],
      "text/plain": [
       "                                        paper_id         publish_date title  \\\n",
       "count                                       9785                 9785  9785   \n",
       "unique                                      9785                  132  8838   \n",
       "top     0bd443591b5e10934beef050b516afeca6b668fe  2020-04-30 00:00:00         \n",
       "freq                                           1                  365   677   \n",
       "first                                        NaN  2020-01-01 00:00:00   NaN   \n",
       "last                                         NaN  2020-05-20 00:00:00   NaN   \n",
       "\n",
       "       authors abstract                                               text  \n",
       "count     9785     9785                                               9785  \n",
       "unique    9114     4557                                               9785  \n",
       "top                      \\nproduced when an infected person sneezes and...  \n",
       "freq       383     5157                                                  1  \n",
       "first      NaN      NaN                                                NaN  \n",
       "last       NaN      NaN                                                NaN  "
      ]
     },
     "execution_count": 20,
     "metadata": {},
     "output_type": "execute_result"
    }
   ],
   "source": [
    "df_2020_results = df_2020_clean_results.drop_duplicates(['text'])\n",
    "df_2020_results.describe(include='all')"
   ]
  },
  {
   "cell_type": "code",
   "execution_count": 21,
   "metadata": {},
   "outputs": [
    {
     "data": {
      "text/plain": [
       "(9785, 6)"
      ]
     },
     "execution_count": 21,
     "metadata": {},
     "output_type": "execute_result"
    }
   ],
   "source": [
    "df_2020_results.shape"
   ]
  },
  {
   "cell_type": "code",
   "execution_count": 22,
   "metadata": {},
   "outputs": [],
   "source": [
    "df2020_doc = df_2020_results['publish_date'].groupby([df_2020_results['publish_date'].dt.month]).agg('count').reset_index(name=\"count\")\n",
    "df2020_doc.rename(columns={'publish_date':'Month'}, inplace=True)"
   ]
  },
  {
   "cell_type": "markdown",
   "metadata": {},
   "source": [
    "Lets inspect the number of publications in our dataset by month"
   ]
  },
  {
   "cell_type": "code",
   "execution_count": 23,
   "metadata": {},
   "outputs": [
    {
     "data": {
      "image/png": "[encoded data removed]",
      "text/plain": [
       "<Figure size 432x288 with 1 Axes>"
      ]
     },
     "metadata": {
      "needs_background": "light"
     },
     "output_type": "display_data"
    }
   ],
   "source": [
    "df2020_doc.plot.bar(x = \"Month\", y = \"count\", title=\"Documents Number Distribution By Month 2020 year\", rot=0)\n",
    "plt.show(block=True);"
   ]
  },
  {
   "cell_type": "markdown",
   "metadata": {},
   "source": [
    "As we can see the most documents were published in April."
   ]
  },
  {
   "cell_type": "markdown",
   "metadata": {},
   "source": [
    "Save resulting CSV file"
   ]
  },
  {
   "cell_type": "code",
   "execution_count": 24,
   "metadata": {},
   "outputs": [],
   "source": [
    "df_2020_results.to_csv(FORMATTED_FILES_DIR + RESULTS_FILE_NAME, index=False, encoding='utf-8')"
   ]
  },
  {
   "cell_type": "markdown",
   "metadata": {},
   "source": [
    "### Read Drugs data from RxNav Rest API"
   ]
  },
  {
   "cell_type": "markdown",
   "metadata": {},
   "source": [
    "Get drugs names from RxNav Rest API <br/>\n",
    "uses term types (TTYs)\n",
    "- IN - Ingredient. A compound or moiety that gives the drug its distinctive clinical properties. Ingredients generally use the United States Adopted Name (USAN). E.g. *Fluoxetine*\n",
    "- BN - Brand Name. A proprietary name for a family of products containing a specific active ingredient. E.g. *Prozac*"
   ]
  },
  {
   "cell_type": "code",
   "execution_count": 25,
   "metadata": {},
   "outputs": [],
   "source": [
    "RXNORM_IN_URL = 'https://rxnav.nlm.nih.gov/REST/allconcepts?tty=IN'\n",
    "RXNORM_BN_URL = 'https://rxnav.nlm.nih.gov/REST/allconcepts?tty=BN'"
   ]
  },
  {
   "cell_type": "code",
   "execution_count": 26,
   "metadata": {},
   "outputs": [],
   "source": [
    "response_in = requests.get(RXNORM_IN_URL)\n",
    "tree_in = ET.fromstring(response_in.content)\n",
    "response_bn = requests.get(RXNORM_BN_URL)\n",
    "tree_bn = ET.fromstring(response_bn.content)"
   ]
  },
  {
   "cell_type": "code",
   "execution_count": 27,
   "metadata": {},
   "outputs": [
    {
     "name": "stdout",
     "output_type": "stream",
     "text": [
      "Length =  12587\n"
     ]
    }
   ],
   "source": [
    "drugs_list = []\n",
    "# Find names\n",
    "for Variable in tree_in.findall('*//name'):\n",
    "        drugs_list.append(Variable.text)\n",
    "print(\"Length = \", len(drugs_list))"
   ]
  },
  {
   "cell_type": "code",
   "execution_count": 28,
   "metadata": {},
   "outputs": [
    {
     "name": "stdout",
     "output_type": "stream",
     "text": [
      "Length =  18176\n"
     ]
    }
   ],
   "source": [
    "for Variable in tree_bn.findall('*//name'):\n",
    "        drugs_list.append(Variable.text)\n",
    "print(\"Length = \", len(drugs_list))"
   ]
  },
  {
   "cell_type": "markdown",
   "metadata": {},
   "source": [
    "Create a set of Drugs names (unique)"
   ]
  },
  {
   "cell_type": "code",
   "execution_count": 29,
   "metadata": {},
   "outputs": [],
   "source": [
    "drugs_unique = list(set(drugs_list))\n",
    "drugs_unique.sort()"
   ]
  },
  {
   "cell_type": "markdown",
   "metadata": {},
   "source": [
    "Save drugs to file"
   ]
  },
  {
   "cell_type": "code",
   "execution_count": 30,
   "metadata": {},
   "outputs": [],
   "source": [
    "with open(FORMATTED_FILES_DIR + DRUGS_FILE_NAME, \"w\") as outfile:\n",
    "    outfile.write(\"\\n\".join(drugs_unique))"
   ]
  },
  {
   "cell_type": "markdown",
   "metadata": {},
   "source": [
    "## 3. Methodology<a name=\"methodology\"></a>"
   ]
  },
  {
   "cell_type": "markdown",
   "metadata": {},
   "source": [
    "In this project we are trying to find drugs names with most positive sentiments among all documents from **CORD-19** corpus mentioned in the nearest two sentences from the sentence with *Covid-19* and *Covid-19* synonyms phrases. \n",
    "\n",
    "In the **first step** we have collected the following data: \n",
    "- CORD-19 documents filtered by publication date equal 2020 year - **9785** documents; \n",
    "- Drugs names from https://rxnav.nlm.nih.gov/ - **18176** unique entries comprise drugs' Ingridient and Brand names;\n",
    "\n",
    "Downloading files from https://www.nlm.nih.gov site requires UMLS Licence. So I used RxNav Rest API - less accurate results related Drugs names because the results can contain such entries as 'gold', 'latex', 'fiber' - I removed them in cleanup phase. <br/>\n",
    "\n",
    "There are other sources of notmalized Drugs names, e.g. https://www.drugbank.ca/, but they also requires Licence to access/download the data.<br/> \n",
    "I asked *Drugbank* for the acces but they have not provided it without the explanation, unfortunately.\n",
    "\n",
    "The **second step** in our analysis will extract sentences with *Covid-19* and Drugs names (with distance of 2 sentences from each other) and calculate statistics about drugs names distribution in each document.\n",
    "\n",
    "In the **third step** we will choose NLP Sentiment analysis Model with the highest accuracy.<br/>\n",
    "The problem here that all existing Sentiment models pre-trained on social media datasets (tweets, movie/hotels reviews). <br/>\n",
    "I have not found any Sentiment labeled dataset for Medical domain. <br/>\n",
    "So I randomly chose 500 sentences from **CORD-19** corpus and labeled them. <br/>\n",
    "*I am not a doctor so may be some sentences labeled wrongly.*\n",
    " \n",
    "In the **fourth and final step** we will calculate the summary score for each drug (Sentiment - negative (-1), neutral (0), and positive (1))<br/> and display the Top-20 Drugs Names on WordCloud chart."
   ]
  },
  {
   "cell_type": "markdown",
   "metadata": {},
   "source": [
    "## 4. Analysis <a name=\"analysis\"></a>"
   ]
  },
  {
   "cell_type": "markdown",
   "metadata": {},
   "source": [
    "In this section, we will explore the cleansed data and visualize them.\n",
    "\n"
   ]
  },
  {
   "cell_type": "markdown",
   "metadata": {},
   "source": [
    "Synonyms of COVID-19"
   ]
  },
  {
   "cell_type": "code",
   "execution_count": 31,
   "metadata": {},
   "outputs": [],
   "source": [
    "covid_names = [\n",
    "    \"covid-19\",\n",
    "    \"covid19\",\n",
    "    \"2019-ncov\",\n",
    "    \"2019ncov\",\n",
    "    \"coronavirus\",\n",
    "    \"sars-cov-2\",\n",
    "    \"sarscov2\"]"
   ]
  },
  {
   "cell_type": "markdown",
   "metadata": {},
   "source": [
    "Read our previosuly created 'Result Cleaned' CSV file with Full Text articles from 2020 year"
   ]
  },
  {
   "cell_type": "code",
   "execution_count": 32,
   "metadata": {},
   "outputs": [
    {
     "name": "stdout",
     "output_type": "stream",
     "text": [
      "CSV Results file size =  9786\n"
     ]
    }
   ],
   "source": [
    "csv_results = []\n",
    "with codecs.open(FORMATTED_FILES_DIR + RESULTS_FILE_NAME,'r', encoding='utf-8')as f:\n",
    "     csv_results = list(csv.reader(f))\n",
    "\n",
    "print(\"CSV Results file size = \", len(csv_results))        "
   ]
  },
  {
   "cell_type": "code",
   "execution_count": 33,
   "metadata": {},
   "outputs": [
    {
     "name": "stdout",
     "output_type": "stream",
     "text": [
      "['paper_id', 'publish_date', 'title', 'authors', 'abstract', 'text']\n"
     ]
    }
   ],
   "source": [
    "print(csv_results[0])"
   ]
  },
  {
   "cell_type": "markdown",
   "metadata": {},
   "source": [
    "Create a dictionary of sentences for each document"
   ]
  },
  {
   "cell_type": "code",
   "execution_count": 34,
   "metadata": {},
   "outputs": [
    {
     "name": "stdout",
     "output_type": "stream",
     "text": [
      "All documents number:  9786\n"
     ]
    }
   ],
   "source": [
    "all_sentences = {}\n",
    "for i, record in enumerate(csv_results, start=1):\n",
    "    sentences = []\n",
    "    # get full text\n",
    "    # add additional spaces arounf dots to improve sentence\n",
    "    full_text =  re.sub(r'([a-z])\\.([A-Z])', r'\\1. \\2', record[5])\n",
    "    full_text =  re.sub(r'([a-z])\\.([0-9])', r'\\1. \\2', full_text)\n",
    "    full_text =  re.sub(r'([0-9]\\])\\.([A-Z])', r'\\1. \\2', full_text)\n",
    "    full_text =  re.sub(r'([0-9]\\))\\.([A-Z])', r'\\1. \\2', full_text)   \n",
    "    sent_text = nltk.sent_tokenize(full_text) \n",
    "    for sentence in sent_text:\n",
    "        #remove New Line from the file\n",
    "        str1 = sentence.replace(\"\\n\", \"\")\n",
    "        sentences.append(str1)    \n",
    "    all_sentences[record[0]] = sentences\n",
    "print(\"All documents number: \", len(all_sentences))                            "
   ]
  },
  {
   "cell_type": "markdown",
   "metadata": {},
   "source": [
    "So we have 9786 document with publish date equal 2020 year"
   ]
  },
  {
   "cell_type": "markdown",
   "metadata": {},
   "source": [
    "#### Normalize words (lowercase and remove stop words)"
   ]
  },
  {
   "cell_type": "code",
   "execution_count": 35,
   "metadata": {},
   "outputs": [
    {
     "name": "stderr",
     "output_type": "stream",
     "text": [
      "[nltk_data] Downloading package stopwords to\n",
      "[nltk_data]     C:\\Users\\gmlvsv\\AppData\\Roaming\\nltk_data...\n",
      "[nltk_data]   Package stopwords is already up-to-date!\n"
     ]
    },
    {
     "data": {
      "text/plain": [
       "True"
      ]
     },
     "execution_count": 35,
     "metadata": {},
     "output_type": "execute_result"
    }
   ],
   "source": [
    "nltk.download('stopwords')"
   ]
  },
  {
   "cell_type": "markdown",
   "metadata": {},
   "source": [
    "We are using pre-defined Stop words list from NLTK library and manually add some stop words for the drugs names."
   ]
  },
  {
   "cell_type": "code",
   "execution_count": 36,
   "metadata": {},
   "outputs": [],
   "source": [
    "stop_words = stopwords.words('english')\n",
    "drugs_stop_words = ['rna', 'lead', 'air', 'oxygen', 'perform', 'water', 'diamond', 'matrix', 'gold', 'today',\n",
    "                   'sodium', 'blockade', 'align', 'copper', 'excel','calcium', 'nicotine', 'iron',\n",
    "                   'latex', 'fiber', 'legacy', 'formalin', 'tomorrow', 'formaldehyde', 'methanol',\n",
    "                   'pronto', 'android','longrange', 'overtime','acetone','revolution',\n",
    "                   'glucose', 'ethanol', 'cocaine','heroin', 'supreme', 'zinc', 'pacebo', 'glycine',\n",
    "                   'poliovirus', 'protease']"
   ]
  },
  {
   "cell_type": "markdown",
   "metadata": {},
   "source": [
    "Remove noise: punctuation, stop words and lowercase all words. <br/>\n",
    "I decided not to use Lemmatizer because we are going to use Drugs Names for search (not common English words)"
   ]
  },
  {
   "cell_type": "code",
   "execution_count": 37,
   "metadata": {},
   "outputs": [],
   "source": [
    "def remove_noise(tokens, stop_words = ()):\n",
    "    cleaned_tokens = []\n",
    "    for token in tokens:\n",
    "#        lemmatizer = WordNetLemmatizer()\n",
    "#        token = lemmatizer.lemmatize(token)\n",
    "        if len(token) > 0 and token not in string.punctuation and token.lower() not in stop_words:\n",
    "            cleaned_tokens.append(token.lower())\n",
    "    return cleaned_tokens"
   ]
  },
  {
   "cell_type": "markdown",
   "metadata": {},
   "source": [
    "#### Define sentences with 'COVID-19' and synonyms "
   ]
  },
  {
   "cell_type": "code",
   "execution_count": 38,
   "metadata": {},
   "outputs": [
    {
     "name": "stdout",
     "output_type": "stream",
     "text": [
      "Number of Documents with Covid-19 mentioned:  8834\n"
     ]
    }
   ],
   "source": [
    "#Define sentences' indexes with Covid-19 mentioned\n",
    "#Iterate Documents\n",
    "covid19_sentences_indexes = {}\n",
    "for key, doc in all_sentences.items():\n",
    "    #Iterate Sentences in document\n",
    "    for i, sentence in enumerate(doc):\n",
    "         tokenized_text = nltk.word_tokenize(sentence)\n",
    "         #lowercase all words from the sentence\n",
    "         words_lower = [item.lower() for item in tokenized_text]\n",
    "         if any(word in words_lower for word in covid_names):          \n",
    "            if key not in covid19_sentences_indexes:\n",
    "                 covid19_sentences_indexes[key] = [i]\n",
    "            else:\n",
    "                 covid19_sentences_indexes[key].append(i)\n",
    "                \n",
    "# Number of sentences with Covid-19 mentioned\n",
    "print(\"Number of Documents with Covid-19 mentioned: \", len(covid19_sentences_indexes))    "
   ]
  },
  {
   "cell_type": "markdown",
   "metadata": {},
   "source": [
    "Lowercase all drugs names and add 'Arbidol' because it absent in RxNorm  database."
   ]
  },
  {
   "cell_type": "code",
   "execution_count": 39,
   "metadata": {},
   "outputs": [],
   "source": [
    "#lowercase all drugs\n",
    "drugs_unique_lower = [item.lower() for item in drugs_unique]\n",
    "#remove stop words\n",
    "drugs_unique_lower_wstop = list(filter(lambda w: w not in drugs_stop_words, drugs_unique_lower))\n",
    "drugs_unique_lower_wstop.append('arbidol')"
   ]
  },
  {
   "cell_type": "markdown",
   "metadata": {},
   "source": [
    "#### Define sentences with Drugs mentioned nearest the 'Covid-19' sentenses"
   ]
  },
  {
   "cell_type": "code",
   "execution_count": 40,
   "metadata": {},
   "outputs": [
    {
     "name": "stdout",
     "output_type": "stream",
     "text": [
      "Number of sentences with drugs mentioned:  1820\n"
     ]
    }
   ],
   "source": [
    "windows_size = 2\n",
    "drugs_sentences_indexes = {}\n",
    "#Iterate thru Documents\n",
    "for key, s_indexes in covid19_sentences_indexes.items():\n",
    "    passed_indexes = []\n",
    "    for i, index in enumerate(s_indexes):\n",
    "    #check current sentence and windows_size ahead sentences for Drugs\n",
    "        for j in range(windows_size):\n",
    "            current_index = index + j\n",
    "            if current_index >= len(all_sentences[key]):\n",
    "                continue\n",
    "            current_sentence = all_sentences[key][current_index]\n",
    "            tokenized_text = nltk.word_tokenize(current_sentence)\n",
    "            #lowercase all words from the sentence and clear noise\n",
    "            #words_lower = [item.lower() for item in tokenized_text]\n",
    "            tokens_cleaned = remove_noise(tokenized_text, stop_words)\n",
    "            # check Drugs\n",
    "            if (current_index not in passed_indexes) & (any(word in tokens_cleaned for word in drugs_unique_lower_wstop)):\n",
    "                   if key not in drugs_sentences_indexes:\n",
    "                        drugs_sentences_indexes[key] = [current_index]\n",
    "                   else:\n",
    "                        drugs_sentences_indexes[key].append(current_index)                        \n",
    "                   passed_indexes.append(current_index)\n",
    "\n",
    "# Number of sentences with drugs mentioned\n",
    "print(\"Number of sentences with drugs mentioned: \", len(drugs_sentences_indexes))      \n"
   ]
  },
  {
   "cell_type": "markdown",
   "metadata": {},
   "source": [
    "So now we have only 1820 documents with 'Covid-19' and Drug Names listed nearby (2 sentences distance)"
   ]
  },
  {
   "cell_type": "code",
   "execution_count": 41,
   "metadata": {},
   "outputs": [],
   "source": [
    "# Create a file with Drugs and nearby Coronavirus sentences\n",
    "drugs_sentences_result ={}\n",
    "all_drug_sentences = []\n",
    "for key, s_indexes in drugs_sentences_indexes.items():\n",
    "     for i, index in enumerate(s_indexes):\n",
    "            current_sentence = all_sentences[key][index]     \n",
    "            all_drug_sentences.append(current_sentence)\n",
    "            if key not in drugs_sentences_result:\n",
    "                drugs_sentences_result[key] = [current_sentence]\n",
    "            else:\n",
    "                drugs_sentences_result[key].append(current_sentence)"
   ]
  },
  {
   "cell_type": "markdown",
   "metadata": {},
   "source": [
    "Save the file with Drugs and neaby Coronavirus sentences"
   ]
  },
  {
   "cell_type": "code",
   "execution_count": 42,
   "metadata": {},
   "outputs": [
    {
     "data": {
      "text/html": [
       "<div>\n",
       "<style scoped>\n",
       "    .dataframe tbody tr th:only-of-type {\n",
       "        vertical-align: middle;\n",
       "    }\n",
       "\n",
       "    .dataframe tbody tr th {\n",
       "        vertical-align: top;\n",
       "    }\n",
       "\n",
       "    .dataframe thead th {\n",
       "        text-align: right;\n",
       "    }\n",
       "</style>\n",
       "<table border=\"1\" class=\"dataframe\">\n",
       "  <thead>\n",
       "    <tr style=\"text-align: right;\">\n",
       "      <th></th>\n",
       "      <th>0</th>\n",
       "    </tr>\n",
       "  </thead>\n",
       "  <tbody>\n",
       "    <tr>\n",
       "      <th>PMC6955270</th>\n",
       "      <td>[Other avian gammacoronaviruses, including gui...</td>\n",
       "    </tr>\n",
       "    <tr>\n",
       "      <th>PMC7026129</th>\n",
       "      <td>[It was reported that hexachlorophene inhibite...</td>\n",
       "    </tr>\n",
       "    <tr>\n",
       "      <th>PMC7054919</th>\n",
       "      <td>[Cleavage of the Coronavirus S protein by tryp...</td>\n",
       "    </tr>\n",
       "    <tr>\n",
       "      <th>PMC7063555</th>\n",
       "      <td>[However, many forms of specific treatment are...</td>\n",
       "    </tr>\n",
       "    <tr>\n",
       "      <th>PMC7077318</th>\n",
       "      <td>[The coronavirus 3CLpro employs conserved cyst...</td>\n",
       "    </tr>\n",
       "  </tbody>\n",
       "</table>\n",
       "</div>"
      ],
      "text/plain": [
       "                                                            0\n",
       "PMC6955270  [Other avian gammacoronaviruses, including gui...\n",
       "PMC7026129  [It was reported that hexachlorophene inhibite...\n",
       "PMC7054919  [Cleavage of the Coronavirus S protein by tryp...\n",
       "PMC7063555  [However, many forms of specific treatment are...\n",
       "PMC7077318  [The coronavirus 3CLpro employs conserved cyst..."
      ]
     },
     "execution_count": 42,
     "metadata": {},
     "output_type": "execute_result"
    }
   ],
   "source": [
    "df_results_drugs = pd.json_normalize(drugs_sentences_result)\n",
    "df_results_drugs_tr = df_results_drugs.transpose()\n",
    "df_results_drugs_tr.head()"
   ]
  },
  {
   "cell_type": "code",
   "execution_count": 43,
   "metadata": {},
   "outputs": [],
   "source": [
    "import random\n",
    "random.shuffle(all_drug_sentences)\n",
    "df_results_drugs_tr.to_csv(FORMATTED_FILES_DIR + \"Drugs Sentence.csv\",  encoding='utf-8')\n",
    "with codecs.open(FORMATTED_FILES_DIR + \"Drugs Sentences All.csv\",'w', encoding='utf-8')as f:\n",
    "     f.write(\"\\n\".join(all_drug_sentences))"
   ]
  },
  {
   "cell_type": "markdown",
   "metadata": {},
   "source": [
    "## 4.1 Sentiment Analysis: Machine Learning  <a name=\"sentiment_analysis\"></a>"
   ]
  },
  {
   "cell_type": "markdown",
   "metadata": {},
   "source": [
    "Now we are going to evaluate and choose the best NLP Sentiment Analysis Model for our Drug/Treatment usage (limited to this project)."
   ]
  },
  {
   "cell_type": "markdown",
   "metadata": {},
   "source": [
    "#### Read and Analyze manually Labeled 500 Covid-19 sentences with drugs mentioned in them\n",
    "Sentiment classes defined as follows\n",
    "* 0 - negative\n",
    "* 2 - neutral\n",
    "* 4 - positive\n",
    "\n",
    "These classes show the sentiment about the drugs treatment of Covid-19. <br/> <br/>\n",
    "**Labeling was done by me (I am not a doctor) so may be some sentences labeled wrongly because it's hard to understand the writing somethimes.**"
   ]
  },
  {
   "cell_type": "code",
   "execution_count": 44,
   "metadata": {},
   "outputs": [
    {
     "data": {
      "text/html": [
       "<div>\n",
       "<style scoped>\n",
       "    .dataframe tbody tr th:only-of-type {\n",
       "        vertical-align: middle;\n",
       "    }\n",
       "\n",
       "    .dataframe tbody tr th {\n",
       "        vertical-align: top;\n",
       "    }\n",
       "\n",
       "    .dataframe thead th {\n",
       "        text-align: right;\n",
       "    }\n",
       "</style>\n",
       "<table border=\"1\" class=\"dataframe\">\n",
       "  <thead>\n",
       "    <tr style=\"text-align: right;\">\n",
       "      <th></th>\n",
       "      <th>label</th>\n",
       "      <th>sentence</th>\n",
       "    </tr>\n",
       "  </thead>\n",
       "  <tbody>\n",
       "    <tr>\n",
       "      <th>0</th>\n",
       "      <td>2</td>\n",
       "      <td>However, it is not clear whether the anti-viru...</td>\n",
       "    </tr>\n",
       "    <tr>\n",
       "      <th>1</th>\n",
       "      <td>0</td>\n",
       "      <td>However, the use of ribavirin is associated wi...</td>\n",
       "    </tr>\n",
       "    <tr>\n",
       "      <th>2</th>\n",
       "      <td>4</td>\n",
       "      <td>According to preliminary reports [50 , 51] fro...</td>\n",
       "    </tr>\n",
       "    <tr>\n",
       "      <th>3</th>\n",
       "      <td>4</td>\n",
       "      <td>Notably, inhibition of mTOR with sirolimus red...</td>\n",
       "    </tr>\n",
       "    <tr>\n",
       "      <th>4</th>\n",
       "      <td>2</td>\n",
       "      <td>Chlorpromazine, an antipsychotic (via dopamine...</td>\n",
       "    </tr>\n",
       "  </tbody>\n",
       "</table>\n",
       "</div>"
      ],
      "text/plain": [
       "   label                                           sentence\n",
       "0      2  However, it is not clear whether the anti-viru...\n",
       "1      0  However, the use of ribavirin is associated wi...\n",
       "2      4  According to preliminary reports [50 , 51] fro...\n",
       "3      4  Notably, inhibition of mTOR with sirolimus red...\n",
       "4      2  Chlorpromazine, an antipsychotic (via dopamine..."
      ]
     },
     "execution_count": 44,
     "metadata": {},
     "output_type": "execute_result"
    }
   ],
   "source": [
    "df_sentiment = pd.read_csv(LABELED_SENTIMENT_FILE_NAME)\n",
    "df_sentiment.head()"
   ]
  },
  {
   "cell_type": "code",
   "execution_count": 45,
   "metadata": {},
   "outputs": [],
   "source": [
    "def label_category(score):\n",
    "    return 'positive' if score ==4  else 'negative' if score == 0 else 'neutral' "
   ]
  },
  {
   "cell_type": "code",
   "execution_count": 46,
   "metadata": {},
   "outputs": [
    {
     "data": {
      "text/html": [
       "<div>\n",
       "<style scoped>\n",
       "    .dataframe tbody tr th:only-of-type {\n",
       "        vertical-align: middle;\n",
       "    }\n",
       "\n",
       "    .dataframe tbody tr th {\n",
       "        vertical-align: top;\n",
       "    }\n",
       "\n",
       "    .dataframe thead th {\n",
       "        text-align: right;\n",
       "    }\n",
       "</style>\n",
       "<table border=\"1\" class=\"dataframe\">\n",
       "  <thead>\n",
       "    <tr style=\"text-align: right;\">\n",
       "      <th></th>\n",
       "      <th>label</th>\n",
       "      <th>sentence</th>\n",
       "      <th>true_label</th>\n",
       "    </tr>\n",
       "  </thead>\n",
       "  <tbody>\n",
       "    <tr>\n",
       "      <th>0</th>\n",
       "      <td>2</td>\n",
       "      <td>However, it is not clear whether the anti-viru...</td>\n",
       "      <td>neutral</td>\n",
       "    </tr>\n",
       "    <tr>\n",
       "      <th>1</th>\n",
       "      <td>0</td>\n",
       "      <td>However, the use of ribavirin is associated wi...</td>\n",
       "      <td>negative</td>\n",
       "    </tr>\n",
       "    <tr>\n",
       "      <th>2</th>\n",
       "      <td>4</td>\n",
       "      <td>According to preliminary reports [50 , 51] fro...</td>\n",
       "      <td>positive</td>\n",
       "    </tr>\n",
       "    <tr>\n",
       "      <th>3</th>\n",
       "      <td>4</td>\n",
       "      <td>Notably, inhibition of mTOR with sirolimus red...</td>\n",
       "      <td>positive</td>\n",
       "    </tr>\n",
       "    <tr>\n",
       "      <th>4</th>\n",
       "      <td>2</td>\n",
       "      <td>Chlorpromazine, an antipsychotic (via dopamine...</td>\n",
       "      <td>neutral</td>\n",
       "    </tr>\n",
       "  </tbody>\n",
       "</table>\n",
       "</div>"
      ],
      "text/plain": [
       "   label                                           sentence true_label\n",
       "0      2  However, it is not clear whether the anti-viru...    neutral\n",
       "1      0  However, the use of ribavirin is associated wi...   negative\n",
       "2      4  According to preliminary reports [50 , 51] fro...   positive\n",
       "3      4  Notably, inhibition of mTOR with sirolimus red...   positive\n",
       "4      2  Chlorpromazine, an antipsychotic (via dopamine...    neutral"
      ]
     },
     "execution_count": 46,
     "metadata": {},
     "output_type": "execute_result"
    }
   ],
   "source": [
    "# Assign label to sentiment categories\n",
    "df_sentiment['true_label'] = df_sentiment['label'].apply(label_category)\n",
    "df_sentiment.head()"
   ]
  },
  {
   "cell_type": "markdown",
   "metadata": {},
   "source": [
    "Check how balanced our labeled dataset. <br/>"
   ]
  },
  {
   "cell_type": "code",
   "execution_count": 47,
   "metadata": {},
   "outputs": [
    {
     "data": {
      "text/html": [
       "<div>\n",
       "<style scoped>\n",
       "    .dataframe tbody tr th:only-of-type {\n",
       "        vertical-align: middle;\n",
       "    }\n",
       "\n",
       "    .dataframe tbody tr th {\n",
       "        vertical-align: top;\n",
       "    }\n",
       "\n",
       "    .dataframe thead th {\n",
       "        text-align: right;\n",
       "    }\n",
       "</style>\n",
       "<table border=\"1\" class=\"dataframe\">\n",
       "  <thead>\n",
       "    <tr style=\"text-align: right;\">\n",
       "      <th></th>\n",
       "      <th>true_label</th>\n",
       "      <th>count</th>\n",
       "    </tr>\n",
       "  </thead>\n",
       "  <tbody>\n",
       "    <tr>\n",
       "      <th>0</th>\n",
       "      <td>negative</td>\n",
       "      <td>87</td>\n",
       "    </tr>\n",
       "    <tr>\n",
       "      <th>1</th>\n",
       "      <td>neutral</td>\n",
       "      <td>179</td>\n",
       "    </tr>\n",
       "    <tr>\n",
       "      <th>2</th>\n",
       "      <td>positive</td>\n",
       "      <td>234</td>\n",
       "    </tr>\n",
       "  </tbody>\n",
       "</table>\n",
       "</div>"
      ],
      "text/plain": [
       "  true_label  count\n",
       "0   negative     87\n",
       "1    neutral    179\n",
       "2   positive    234"
      ]
     },
     "execution_count": 47,
     "metadata": {},
     "output_type": "execute_result"
    }
   ],
   "source": [
    "dfc= df_sentiment.groupby(['true_label'])['true_label'].count().reset_index(name=\"count\")\n",
    "dfc"
   ]
  },
  {
   "cell_type": "code",
   "execution_count": 48,
   "metadata": {},
   "outputs": [
    {
     "data": {
      "image/png": "[encoded data removed]",
      "text/plain": [
       "<Figure size 432x288 with 1 Axes>"
      ]
     },
     "metadata": {
      "needs_background": "light"
     },
     "output_type": "display_data"
    }
   ],
   "source": [
    "dfc.plot.bar(x = \"true_label\", y = \"count\", rot=70, title=\"Sentiment categories disribution\");\n",
    "plt.show(block=True);"
   ]
  },
  {
   "cell_type": "markdown",
   "metadata": {},
   "source": [
    "We can see that we have almost 3 times more 'Positive' labeled sentences than 'Negative'"
   ]
  },
  {
   "cell_type": "markdown",
   "metadata": {},
   "source": [
    "### 4.1.1 Sentiment NLP Model selection   <a name=\"sentiment_analysis_ms\"></a>\n",
    "Now we will evaluate the three supervived **Machine Learning Algorithms** for Classsification: <br/>\n",
    "\n",
    "1) Vader<br/>\n",
    "2) TextBlob<br/>\n",
    "3) SVM\n",
    "\n",
    "\n",
    "and one **Deep Learning Algorithm** - Multi-Label classification on Keras\n",
    "\n",
    "*Note: based on these documents in part of Sentimental Models build and check performance*\n",
    "- https://towardsdatascience.com/fine-grained-sentiment-analysis-in-python-part-1-2697bb111ed4\n",
    "- https://stackabuse.com/python-for-nlp-creating-multi-data-type-classification-models-with-keras/\n"
   ]
  },
  {
   "cell_type": "markdown",
   "metadata": {},
   "source": [
    "### Vader Sentiment Analysis\n",
    "VADER (Valence Aware Dictionary and sEntiment Reasoner) is a lexicon and rule-based sentiment analysis tool that is specifically attuned to sentiments expressed in social media. <br/>\n"
   ]
  },
  {
   "cell_type": "code",
   "execution_count": 49,
   "metadata": {},
   "outputs": [],
   "source": [
    "vader = SentimentIntensityAnalyzer()"
   ]
  },
  {
   "cell_type": "code",
   "execution_count": 50,
   "metadata": {},
   "outputs": [],
   "source": [
    "def vader_score(text):\n",
    "        return vader.polarity_scores(text)['compound']\n",
    "    \n",
    "def vader_category(score):\n",
    "        return 'positive' if score > 0 else 'negative' if score < 0 else 'neutral' "
   ]
  },
  {
   "cell_type": "code",
   "execution_count": 51,
   "metadata": {},
   "outputs": [
    {
     "data": {
      "text/html": [
       "<div>\n",
       "<style scoped>\n",
       "    .dataframe tbody tr th:only-of-type {\n",
       "        vertical-align: middle;\n",
       "    }\n",
       "\n",
       "    .dataframe tbody tr th {\n",
       "        vertical-align: top;\n",
       "    }\n",
       "\n",
       "    .dataframe thead th {\n",
       "        text-align: right;\n",
       "    }\n",
       "</style>\n",
       "<table border=\"1\" class=\"dataframe\">\n",
       "  <thead>\n",
       "    <tr style=\"text-align: right;\">\n",
       "      <th></th>\n",
       "      <th>sentence</th>\n",
       "      <th>true_label</th>\n",
       "      <th>prediction</th>\n",
       "    </tr>\n",
       "  </thead>\n",
       "  <tbody>\n",
       "    <tr>\n",
       "      <th>0</th>\n",
       "      <td>However, it is not clear whether the anti-viru...</td>\n",
       "      <td>neutral</td>\n",
       "      <td>negative</td>\n",
       "    </tr>\n",
       "    <tr>\n",
       "      <th>1</th>\n",
       "      <td>However, the use of ribavirin is associated wi...</td>\n",
       "      <td>negative</td>\n",
       "      <td>positive</td>\n",
       "    </tr>\n",
       "    <tr>\n",
       "      <th>2</th>\n",
       "      <td>According to preliminary reports [50 , 51] fro...</td>\n",
       "      <td>positive</td>\n",
       "      <td>negative</td>\n",
       "    </tr>\n",
       "    <tr>\n",
       "      <th>3</th>\n",
       "      <td>Notably, inhibition of mTOR with sirolimus red...</td>\n",
       "      <td>positive</td>\n",
       "      <td>negative</td>\n",
       "    </tr>\n",
       "    <tr>\n",
       "      <th>4</th>\n",
       "      <td>Chlorpromazine, an antipsychotic (via dopamine...</td>\n",
       "      <td>neutral</td>\n",
       "      <td>negative</td>\n",
       "    </tr>\n",
       "    <tr>\n",
       "      <th>...</th>\n",
       "      <td>...</td>\n",
       "      <td>...</td>\n",
       "      <td>...</td>\n",
       "    </tr>\n",
       "    <tr>\n",
       "      <th>495</th>\n",
       "      <td>Tocilizumab is known to improve insulin resist...</td>\n",
       "      <td>positive</td>\n",
       "      <td>positive</td>\n",
       "    </tr>\n",
       "    <tr>\n",
       "      <th>496</th>\n",
       "      <td>Remdesivir is now being tested in several clin...</td>\n",
       "      <td>neutral</td>\n",
       "      <td>positive</td>\n",
       "    </tr>\n",
       "    <tr>\n",
       "      <th>497</th>\n",
       "      <td>This analysis provides a rational dose optimis...</td>\n",
       "      <td>neutral</td>\n",
       "      <td>positive</td>\n",
       "    </tr>\n",
       "    <tr>\n",
       "      <th>498</th>\n",
       "      <td>Both servers predictions were consistent and p...</td>\n",
       "      <td>neutral</td>\n",
       "      <td>neutral</td>\n",
       "    </tr>\n",
       "    <tr>\n",
       "      <th>499</th>\n",
       "      <td>In vitro cell cultures, HCQ seems to be a more...</td>\n",
       "      <td>positive</td>\n",
       "      <td>negative</td>\n",
       "    </tr>\n",
       "  </tbody>\n",
       "</table>\n",
       "<p>500 rows × 3 columns</p>\n",
       "</div>"
      ],
      "text/plain": [
       "                                              sentence true_label prediction\n",
       "0    However, it is not clear whether the anti-viru...    neutral   negative\n",
       "1    However, the use of ribavirin is associated wi...   negative   positive\n",
       "2    According to preliminary reports [50 , 51] fro...   positive   negative\n",
       "3    Notably, inhibition of mTOR with sirolimus red...   positive   negative\n",
       "4    Chlorpromazine, an antipsychotic (via dopamine...    neutral   negative\n",
       "..                                                 ...        ...        ...\n",
       "495  Tocilizumab is known to improve insulin resist...   positive   positive\n",
       "496  Remdesivir is now being tested in several clin...    neutral   positive\n",
       "497  This analysis provides a rational dose optimis...    neutral   positive\n",
       "498  Both servers predictions were consistent and p...    neutral    neutral\n",
       "499  In vitro cell cultures, HCQ seems to be a more...   positive   negative\n",
       "\n",
       "[500 rows x 3 columns]"
      ]
     },
     "execution_count": 51,
     "metadata": {},
     "output_type": "execute_result"
    }
   ],
   "source": [
    "df_sentiment_vader = df_sentiment.copy()\n",
    "df_sentiment_vader['score'] = df_sentiment_vader['sentence'].apply(vader_score)\n",
    "df_sentiment_vader['prediction'] = df_sentiment_vader['score'].apply(vader_category)\n",
    "df_sentiment_vader = df_sentiment_vader.drop('score', axis=1)\n",
    "df_sentiment_vader = df_sentiment_vader.drop('label', axis=1)\n",
    "df_sentiment_vader"
   ]
  },
  {
   "cell_type": "code",
   "execution_count": 52,
   "metadata": {},
   "outputs": [],
   "source": [
    "y_true = df_sentiment_vader['true_label']\n",
    "y_pred = df_sentiment_vader['prediction']"
   ]
  },
  {
   "cell_type": "markdown",
   "metadata": {},
   "source": [
    "#### Calcuate model performace for Vader classification"
   ]
  },
  {
   "cell_type": "code",
   "execution_count": 53,
   "metadata": {},
   "outputs": [
    {
     "name": "stdout",
     "output_type": "stream",
     "text": [
      "Confusion Matrix :\n",
      "[[ 52  12  23]\n",
      " [ 57  66  56]\n",
      " [ 62  50 122]]\n",
      "Accuracy Score : 0.48\n",
      "Report : \n",
      "              precision    recall  f1-score   support\n",
      "\n",
      "    negative       0.30      0.60      0.40        87\n",
      "     neutral       0.52      0.37      0.43       179\n",
      "    positive       0.61      0.52      0.56       234\n",
      "\n",
      "    accuracy                           0.48       500\n",
      "   macro avg       0.48      0.50      0.46       500\n",
      "weighted avg       0.52      0.48      0.49       500\n",
      "\n"
     ]
    }
   ],
   "source": [
    "results = confusion_matrix(y_true, y_pred) \n",
    "print('Confusion Matrix :')\n",
    "print(results) \n",
    "print('Accuracy Score :',accuracy_score(y_true, y_pred)) \n",
    "print('Report : ')\n",
    "print(classification_report(y_true, y_pred))"
   ]
  },
  {
   "cell_type": "markdown",
   "metadata": {},
   "source": [
    "#### Display Confusion Matrix for Vader classification"
   ]
  },
  {
   "cell_type": "code",
   "execution_count": 54,
   "metadata": {},
   "outputs": [
    {
     "data": {
      "image/png": "[encoded data removed]",
      "text/plain": [
       "<Figure size 720x504 with 2 Axes>"
      ]
     },
     "metadata": {
      "needs_background": "light"
     },
     "output_type": "display_data"
    }
   ],
   "source": [
    "df_cm = pd.DataFrame(results, index = ['true neg', 'true neutr', 'true pos'], columns = ['pr neg', 'pr neutr', 'pr pos'])\n",
    "plt.figure(figsize = (10,7))\n",
    "ax = sn.heatmap(df_cm, cmap='Blues', annot=True, fmt='d')"
   ]
  },
  {
   "cell_type": "markdown",
   "metadata": {},
   "source": [
    "**As we can see the accuracy is low - equal just random choice**"
   ]
  },
  {
   "cell_type": "markdown",
   "metadata": {},
   "source": [
    "### Summary table"
   ]
  },
  {
   "cell_type": "markdown",
   "metadata": {},
   "source": [
    "\n",
    "| Algorithm | Accuracy | F1 Macro         \n",
    "| - |------------- | -\n",
    "| Vader | 0.48 | 0.46\n",
    "\n"
   ]
  },
  {
   "cell_type": "markdown",
   "metadata": {},
   "source": [
    "### TextBlob Sentiment Analysis\n",
    "TextBlob is a popular Python library for processing textual data. It is built on top of NLTK, another popular Natural Language Processing toolbox for Python. <br/>\n",
    "TextBlob uses a sentiment lexicon (consisting of predefined words) to assign scores for each word, which are then averaged out using a weighted average to give an overall sentence sentiment score. <br/>\n",
    "Three scores: “polarity”, “subjectivity” and “intensity” are calculated for each word. <br/>\n",
    "We are interested only in “polarity”: <br/>\n",
    "&nbsp;&nbsp;&nbsp;negative vs. positive (-1.0 => +1.0) <br/> "
   ]
  },
  {
   "cell_type": "code",
   "execution_count": 55,
   "metadata": {},
   "outputs": [],
   "source": [
    "def textblob_score(text):\n",
    "        return TextBlob(text).sentiment.polarity\n",
    "    \n",
    "def textblob_category(score):\n",
    "        return 'positive' if score > 0 else 'negative' if score < 0 else 'neutral' "
   ]
  },
  {
   "cell_type": "code",
   "execution_count": 56,
   "metadata": {},
   "outputs": [
    {
     "data": {
      "text/html": [
       "<div>\n",
       "<style scoped>\n",
       "    .dataframe tbody tr th:only-of-type {\n",
       "        vertical-align: middle;\n",
       "    }\n",
       "\n",
       "    .dataframe tbody tr th {\n",
       "        vertical-align: top;\n",
       "    }\n",
       "\n",
       "    .dataframe thead th {\n",
       "        text-align: right;\n",
       "    }\n",
       "</style>\n",
       "<table border=\"1\" class=\"dataframe\">\n",
       "  <thead>\n",
       "    <tr style=\"text-align: right;\">\n",
       "      <th></th>\n",
       "      <th>sentence</th>\n",
       "      <th>true_label</th>\n",
       "      <th>prediction</th>\n",
       "    </tr>\n",
       "  </thead>\n",
       "  <tbody>\n",
       "    <tr>\n",
       "      <th>0</th>\n",
       "      <td>However, it is not clear whether the anti-viru...</td>\n",
       "      <td>neutral</td>\n",
       "      <td>negative</td>\n",
       "    </tr>\n",
       "    <tr>\n",
       "      <th>1</th>\n",
       "      <td>However, the use of ribavirin is associated wi...</td>\n",
       "      <td>negative</td>\n",
       "      <td>positive</td>\n",
       "    </tr>\n",
       "    <tr>\n",
       "      <th>2</th>\n",
       "      <td>According to preliminary reports [50 , 51] fro...</td>\n",
       "      <td>positive</td>\n",
       "      <td>positive</td>\n",
       "    </tr>\n",
       "    <tr>\n",
       "      <th>3</th>\n",
       "      <td>Notably, inhibition of mTOR with sirolimus red...</td>\n",
       "      <td>positive</td>\n",
       "      <td>positive</td>\n",
       "    </tr>\n",
       "    <tr>\n",
       "      <th>4</th>\n",
       "      <td>Chlorpromazine, an antipsychotic (via dopamine...</td>\n",
       "      <td>neutral</td>\n",
       "      <td>positive</td>\n",
       "    </tr>\n",
       "  </tbody>\n",
       "</table>\n",
       "</div>"
      ],
      "text/plain": [
       "                                            sentence true_label prediction\n",
       "0  However, it is not clear whether the anti-viru...    neutral   negative\n",
       "1  However, the use of ribavirin is associated wi...   negative   positive\n",
       "2  According to preliminary reports [50 , 51] fro...   positive   positive\n",
       "3  Notably, inhibition of mTOR with sirolimus red...   positive   positive\n",
       "4  Chlorpromazine, an antipsychotic (via dopamine...    neutral   positive"
      ]
     },
     "execution_count": 56,
     "metadata": {},
     "output_type": "execute_result"
    }
   ],
   "source": [
    "df_sentiment_textblob = df_sentiment.copy()\n",
    "df_sentiment_textblob['score'] = df_sentiment_textblob['sentence'].apply(textblob_score)\n",
    "df_sentiment_textblob['prediction'] = df_sentiment_textblob['score'].apply(textblob_category)\n",
    "df_sentiment_textblob = df_sentiment_textblob.drop('score', axis=1)\n",
    "df_sentiment_textblob = df_sentiment_textblob.drop('label', axis=1)\n",
    "df_sentiment_textblob.head()"
   ]
  },
  {
   "cell_type": "markdown",
   "metadata": {},
   "source": [
    "#### Calcuate model performace for TextBlob classification"
   ]
  },
  {
   "cell_type": "code",
   "execution_count": 57,
   "metadata": {},
   "outputs": [],
   "source": [
    "y_true = df_sentiment_textblob['true_label']\n",
    "y_pred = df_sentiment_textblob['prediction']"
   ]
  },
  {
   "cell_type": "code",
   "execution_count": 58,
   "metadata": {},
   "outputs": [
    {
     "name": "stdout",
     "output_type": "stream",
     "text": [
      "Confusion Matrix :\n",
      "[[ 25  27  35]\n",
      " [ 37  74  68]\n",
      " [ 23  84 127]]\n",
      "Accuracy Score : 0.452\n",
      "Report : \n",
      "              precision    recall  f1-score   support\n",
      "\n",
      "    negative       0.29      0.29      0.29        87\n",
      "     neutral       0.40      0.41      0.41       179\n",
      "    positive       0.55      0.54      0.55       234\n",
      "\n",
      "    accuracy                           0.45       500\n",
      "   macro avg       0.42      0.41      0.41       500\n",
      "weighted avg       0.45      0.45      0.45       500\n",
      "\n"
     ]
    }
   ],
   "source": [
    "results = confusion_matrix(y_true, y_pred) \n",
    "print('Confusion Matrix :')\n",
    "print(results) \n",
    "print('Accuracy Score :',accuracy_score(y_true, y_pred)) \n",
    "print('Report : ')\n",
    "print(classification_report(y_true, y_pred))"
   ]
  },
  {
   "cell_type": "markdown",
   "metadata": {},
   "source": [
    "#### Display Confusion Matrix for TextBlob classification"
   ]
  },
  {
   "cell_type": "code",
   "execution_count": 59,
   "metadata": {},
   "outputs": [
    {
     "data": {
      "image/png": "[encoded data removed]",
      "text/plain": [
       "<Figure size 720x576 with 2 Axes>"
      ]
     },
     "metadata": {
      "needs_background": "light"
     },
     "output_type": "display_data"
    }
   ],
   "source": [
    "df_cm = pd.DataFrame(results, index = ['true neg', 'true neutr', 'true pos'], columns = ['pr neg', 'pr neutr', 'pr pos'])\n",
    "plt.figure(figsize = (10, 8))\n",
    "ax = sn.heatmap(df_cm, cmap='Blues', annot=True, fmt='d')"
   ]
  },
  {
   "cell_type": "markdown",
   "metadata": {},
   "source": [
    "**The results for TextBlob are worse than we saw for the Vader classifier**"
   ]
  },
  {
   "cell_type": "markdown",
   "metadata": {},
   "source": [
    "### Summary table"
   ]
  },
  {
   "cell_type": "markdown",
   "metadata": {},
   "source": [
    "\n",
    "| Algorithm | Accuracy | F1 Macro         \n",
    "| - |------------- | -\n",
    "| Vader | 0.48 | 0.46\n",
    "| TextBlob | 0.45 | 0.41\n"
   ]
  },
  {
   "cell_type": "markdown",
   "metadata": {},
   "source": [
    "### Support Vector Machine Sentiment Analysis\n",
    "Let's try another popular supervised learning algorithm for the classification - SVM. <br/>\n",
    "\n",
    "*SVM is a non-probabilistic model which uses a representation of text examples as points in a multidimensional space. Examples of different categories (sentiments) are mapped to distinct regions within that space. Then, new texts are assigned a category based on similarities with existing texts and the regions they’re mapped to.* <br/>\n",
    "https://monkeylearn.com/blog/introduction-to-support-vector-machines-svm/"
   ]
  },
  {
   "cell_type": "code",
   "execution_count": 60,
   "metadata": {},
   "outputs": [],
   "source": [
    "df_sentiment_svm = df_sentiment.copy()"
   ]
  },
  {
   "cell_type": "markdown",
   "metadata": {},
   "source": [
    "Split original labeled dataframe into test and train sets. <br/>\n"
   ]
  },
  {
   "cell_type": "code",
   "execution_count": 61,
   "metadata": {},
   "outputs": [
    {
     "data": {
      "text/html": [
       "<div>\n",
       "<style scoped>\n",
       "    .dataframe tbody tr th:only-of-type {\n",
       "        vertical-align: middle;\n",
       "    }\n",
       "\n",
       "    .dataframe tbody tr th {\n",
       "        vertical-align: top;\n",
       "    }\n",
       "\n",
       "    .dataframe thead th {\n",
       "        text-align: right;\n",
       "    }\n",
       "</style>\n",
       "<table border=\"1\" class=\"dataframe\">\n",
       "  <thead>\n",
       "    <tr style=\"text-align: right;\">\n",
       "      <th></th>\n",
       "      <th>label</th>\n",
       "      <th>sentence</th>\n",
       "      <th>true_label</th>\n",
       "    </tr>\n",
       "  </thead>\n",
       "  <tbody>\n",
       "    <tr>\n",
       "      <th>5</th>\n",
       "      <td>4</td>\n",
       "      <td>Hydroxychloroquine (HCQ) has emerged as a cont...</td>\n",
       "      <td>positive</td>\n",
       "    </tr>\n",
       "    <tr>\n",
       "      <th>116</th>\n",
       "      <td>4</td>\n",
       "      <td>In order to verify whether targeted IL-6, may ...</td>\n",
       "      <td>positive</td>\n",
       "    </tr>\n",
       "    <tr>\n",
       "      <th>45</th>\n",
       "      <td>4</td>\n",
       "      <td>his analysis provides a rational dose optimisa...</td>\n",
       "      <td>positive</td>\n",
       "    </tr>\n",
       "    <tr>\n",
       "      <th>16</th>\n",
       "      <td>2</td>\n",
       "      <td>Hydroxychloroquine was started with the same d...</td>\n",
       "      <td>neutral</td>\n",
       "    </tr>\n",
       "    <tr>\n",
       "      <th>462</th>\n",
       "      <td>4</td>\n",
       "      <td>A rapid influenza test, conducted simultaneous...</td>\n",
       "      <td>positive</td>\n",
       "    </tr>\n",
       "  </tbody>\n",
       "</table>\n",
       "</div>"
      ],
      "text/plain": [
       "     label                                           sentence true_label\n",
       "5        4  Hydroxychloroquine (HCQ) has emerged as a cont...   positive\n",
       "116      4  In order to verify whether targeted IL-6, may ...   positive\n",
       "45       4  his analysis provides a rational dose optimisa...   positive\n",
       "16       2  Hydroxychloroquine was started with the same d...    neutral\n",
       "462      4  A rapid influenza test, conducted simultaneous...   positive"
      ]
     },
     "execution_count": 61,
     "metadata": {},
     "output_type": "execute_result"
    }
   ],
   "source": [
    "train_df, test_df = train_test_split(df_sentiment_svm, test_size=0.3, random_state=42)\n",
    "train_df.head()"
   ]
  },
  {
   "cell_type": "markdown",
   "metadata": {},
   "source": [
    "#### Transforming words to features \n",
    "To transform the text into features, <br/>\n",
    "\n",
    " 1) We use CountVectorizer to convert all sentences of our training data into a matrix of token counts; <br/>\n",
    " 2) Next, the count matrix is converted to a TF-IDF representation; <br/>\n",
    " 3) A hinge loss function with a stochastic gradient descent (SGD) optimizer is used, and L2 regularization is applied during training. <br/> \n",
    " <br/>\n"
   ]
  },
  {
   "cell_type": "code",
   "execution_count": 79,
   "metadata": {},
   "outputs": [
    {
     "name": "stderr",
     "output_type": "stream",
     "text": [
      "C:\\Anaconda3\\lib\\site-packages\\ipykernel_launcher.py:16: SettingWithCopyWarning: \n",
      "A value is trying to be set on a copy of a slice from a DataFrame.\n",
      "Try using .loc[row_indexer,col_indexer] = value instead\n",
      "\n",
      "See the caveats in the documentation: https://pandas.pydata.org/pandas-docs/stable/user_guide/indexing.html#returning-a-view-versus-a-copy\n",
      "  app.launch_new_instance()\n"
     ]
    }
   ],
   "source": [
    "pipeline = Pipeline([\n",
    "                     ('count', CountVectorizer()),\n",
    "                     ('tfidf', TfidfTransformer()),\n",
    "                     ('clf', SGDClassifier(\n",
    "                                   loss='hinge',\n",
    "                                   penalty='l2',\n",
    "                                   alpha=1e-3,\n",
    "                                   random_state=42,\n",
    "                                   max_iter=200,\n",
    "                                   learning_rate='optimal',\n",
    "                                   tol=None,\n",
    "                      )),\n",
    "                    ])\n",
    "\n",
    "svm_learner = pipeline.fit(train_df['sentence'], train_df['true_label'])\n",
    "test_df['prediction'] = learner.predict(test_df['sentence'])"
   ]
  },
  {
   "cell_type": "markdown",
   "metadata": {},
   "source": [
    "#### Calcuate model performace for SVM classification"
   ]
  },
  {
   "cell_type": "code",
   "execution_count": 80,
   "metadata": {},
   "outputs": [
    {
     "name": "stdout",
     "output_type": "stream",
     "text": [
      "Confusion Matrix :\n",
      "[[15  6  8]\n",
      " [ 8 29 16]\n",
      " [ 3 12 53]]\n",
      "Accuracy Score : 0.6466666666666666\n",
      "Report : \n",
      "              precision    recall  f1-score   support\n",
      "\n",
      "    negative       0.58      0.52      0.55        29\n",
      "     neutral       0.62      0.55      0.58        53\n",
      "    positive       0.69      0.78      0.73        68\n",
      "\n",
      "    accuracy                           0.65       150\n",
      "   macro avg       0.63      0.61      0.62       150\n",
      "weighted avg       0.64      0.65      0.64       150\n",
      "\n"
     ]
    }
   ],
   "source": [
    "y_true = test_df['true_label']\n",
    "y_pred = test_df['prediction']\n",
    "results = confusion_matrix(y_true, y_pred) \n",
    "print('Confusion Matrix :')\n",
    "print(results) \n",
    "print('Accuracy Score :',accuracy_score(y_true, y_pred)) \n",
    "print('Report : ')\n",
    "print(classification_report(y_true, y_pred))"
   ]
  },
  {
   "cell_type": "markdown",
   "metadata": {},
   "source": [
    "#### Display Confusion Matrix for SVM classification"
   ]
  },
  {
   "cell_type": "code",
   "execution_count": 81,
   "metadata": {},
   "outputs": [
    {
     "data": {
      "image/png": "[encoded data removed]",
      "text/plain": [
       "<Figure size 720x576 with 2 Axes>"
      ]
     },
     "metadata": {
      "needs_background": "light"
     },
     "output_type": "display_data"
    }
   ],
   "source": [
    "df_cm = pd.DataFrame(results, index = ['true neg', 'true neutr', 'true pos'], columns = ['pr neg', 'pr neutr', 'pr pos'])\n",
    "plt.figure(figsize = (10,8))\n",
    "ax = sn.heatmap(df_cm, cmap='Blues', annot=True, fmt='d')"
   ]
  },
  {
   "cell_type": "markdown",
   "metadata": {},
   "source": [
    "**The results for SVM are better than TextBlob and Vader** <br/>\n",
    "\n",
    "A count vectorizer combined with a TF-IDF transformation does not really learn anything about how words are related to one another — they simply look at the number of word co-occurrences in the each sample to make a conclusion. Enter word embeddings. <br/>\n",
    "https://towardsdatascience.com/fine-grained-sentiment-analysis-in-python-part-1-2697bb111ed4\n",
    "\n",
    "* Delta TF-IDF transformation also could be used but after testing I saw a degradation in accuracy so I kept TF-IDF transformation.\n",
    "* N-grams (1,2) or (2,2) in CountVectorizer() also lead to accuracy decrease."
   ]
  },
  {
   "cell_type": "markdown",
   "metadata": {},
   "source": [
    "### Summary table"
   ]
  },
  {
   "cell_type": "markdown",
   "metadata": {},
   "source": [
    "\n",
    "| Algorithm | Accuracy | F1 Macro         \n",
    "| - |------------- | -\n",
    "| Vader | 0.49 | 0.48\n",
    "| TextBlob | 0.43 | 0.39\n",
    "| SVM | 0.65 | 0.62\n"
   ]
  },
  {
   "cell_type": "markdown",
   "metadata": {},
   "source": [
    "## 4.2 Sentiment Analysis: Deep Leaning   <a name=\"sentiment_analysis_keras\"></a>"
   ]
  },
  {
   "cell_type": "markdown",
   "metadata": {},
   "source": [
    "Let's build a simple Keras Model and check it's accuracy"
   ]
  },
  {
   "cell_type": "code",
   "execution_count": 65,
   "metadata": {},
   "outputs": [
    {
     "data": {
      "text/html": [
       "<div>\n",
       "<style scoped>\n",
       "    .dataframe tbody tr th:only-of-type {\n",
       "        vertical-align: middle;\n",
       "    }\n",
       "\n",
       "    .dataframe tbody tr th {\n",
       "        vertical-align: top;\n",
       "    }\n",
       "\n",
       "    .dataframe thead th {\n",
       "        text-align: right;\n",
       "    }\n",
       "</style>\n",
       "<table border=\"1\" class=\"dataframe\">\n",
       "  <thead>\n",
       "    <tr style=\"text-align: right;\">\n",
       "      <th></th>\n",
       "      <th>label</th>\n",
       "      <th>sentence</th>\n",
       "      <th>true_label</th>\n",
       "    </tr>\n",
       "  </thead>\n",
       "  <tbody>\n",
       "    <tr>\n",
       "      <th>0</th>\n",
       "      <td>2</td>\n",
       "      <td>However, it is not clear whether the anti-viru...</td>\n",
       "      <td>neutral</td>\n",
       "    </tr>\n",
       "    <tr>\n",
       "      <th>1</th>\n",
       "      <td>0</td>\n",
       "      <td>However, the use of ribavirin is associated wi...</td>\n",
       "      <td>negative</td>\n",
       "    </tr>\n",
       "    <tr>\n",
       "      <th>2</th>\n",
       "      <td>4</td>\n",
       "      <td>According to preliminary reports [50 , 51] fro...</td>\n",
       "      <td>positive</td>\n",
       "    </tr>\n",
       "    <tr>\n",
       "      <th>3</th>\n",
       "      <td>4</td>\n",
       "      <td>Notably, inhibition of mTOR with sirolimus red...</td>\n",
       "      <td>positive</td>\n",
       "    </tr>\n",
       "    <tr>\n",
       "      <th>4</th>\n",
       "      <td>2</td>\n",
       "      <td>Chlorpromazine, an antipsychotic (via dopamine...</td>\n",
       "      <td>neutral</td>\n",
       "    </tr>\n",
       "    <tr>\n",
       "      <th>...</th>\n",
       "      <td>...</td>\n",
       "      <td>...</td>\n",
       "      <td>...</td>\n",
       "    </tr>\n",
       "    <tr>\n",
       "      <th>495</th>\n",
       "      <td>4</td>\n",
       "      <td>Tocilizumab is known to improve insulin resist...</td>\n",
       "      <td>positive</td>\n",
       "    </tr>\n",
       "    <tr>\n",
       "      <th>496</th>\n",
       "      <td>2</td>\n",
       "      <td>Remdesivir is now being tested in several clin...</td>\n",
       "      <td>neutral</td>\n",
       "    </tr>\n",
       "    <tr>\n",
       "      <th>497</th>\n",
       "      <td>2</td>\n",
       "      <td>This analysis provides a rational dose optimis...</td>\n",
       "      <td>neutral</td>\n",
       "    </tr>\n",
       "    <tr>\n",
       "      <th>498</th>\n",
       "      <td>2</td>\n",
       "      <td>Both servers predictions were consistent and p...</td>\n",
       "      <td>neutral</td>\n",
       "    </tr>\n",
       "    <tr>\n",
       "      <th>499</th>\n",
       "      <td>4</td>\n",
       "      <td>In vitro cell cultures, HCQ seems to be a more...</td>\n",
       "      <td>positive</td>\n",
       "    </tr>\n",
       "  </tbody>\n",
       "</table>\n",
       "<p>500 rows × 3 columns</p>\n",
       "</div>"
      ],
      "text/plain": [
       "     label                                           sentence true_label\n",
       "0        2  However, it is not clear whether the anti-viru...    neutral\n",
       "1        0  However, the use of ribavirin is associated wi...   negative\n",
       "2        4  According to preliminary reports [50 , 51] fro...   positive\n",
       "3        4  Notably, inhibition of mTOR with sirolimus red...   positive\n",
       "4        2  Chlorpromazine, an antipsychotic (via dopamine...    neutral\n",
       "..     ...                                                ...        ...\n",
       "495      4  Tocilizumab is known to improve insulin resist...   positive\n",
       "496      2  Remdesivir is now being tested in several clin...    neutral\n",
       "497      2  This analysis provides a rational dose optimis...    neutral\n",
       "498      2  Both servers predictions were consistent and p...    neutral\n",
       "499      4  In vitro cell cultures, HCQ seems to be a more...   positive\n",
       "\n",
       "[500 rows x 3 columns]"
      ]
     },
     "execution_count": 65,
     "metadata": {},
     "output_type": "execute_result"
    }
   ],
   "source": [
    "df_sentiment_keras = df_sentiment.copy()\n",
    "df_sentiment_keras"
   ]
  },
  {
   "cell_type": "markdown",
   "metadata": {},
   "source": [
    "Change labels to continues labels - 0,1,2 "
   ]
  },
  {
   "cell_type": "code",
   "execution_count": 66,
   "metadata": {},
   "outputs": [
    {
     "data": {
      "text/html": [
       "<div>\n",
       "<style scoped>\n",
       "    .dataframe tbody tr th:only-of-type {\n",
       "        vertical-align: middle;\n",
       "    }\n",
       "\n",
       "    .dataframe tbody tr th {\n",
       "        vertical-align: top;\n",
       "    }\n",
       "\n",
       "    .dataframe thead th {\n",
       "        text-align: right;\n",
       "    }\n",
       "</style>\n",
       "<table border=\"1\" class=\"dataframe\">\n",
       "  <thead>\n",
       "    <tr style=\"text-align: right;\">\n",
       "      <th></th>\n",
       "      <th>label</th>\n",
       "      <th>sentence</th>\n",
       "      <th>true_label</th>\n",
       "    </tr>\n",
       "  </thead>\n",
       "  <tbody>\n",
       "    <tr>\n",
       "      <th>0</th>\n",
       "      <td>1</td>\n",
       "      <td>However, it is not clear whether the anti-viru...</td>\n",
       "      <td>neutral</td>\n",
       "    </tr>\n",
       "    <tr>\n",
       "      <th>1</th>\n",
       "      <td>0</td>\n",
       "      <td>However, the use of ribavirin is associated wi...</td>\n",
       "      <td>negative</td>\n",
       "    </tr>\n",
       "    <tr>\n",
       "      <th>2</th>\n",
       "      <td>2</td>\n",
       "      <td>According to preliminary reports [50 , 51] fro...</td>\n",
       "      <td>positive</td>\n",
       "    </tr>\n",
       "    <tr>\n",
       "      <th>3</th>\n",
       "      <td>2</td>\n",
       "      <td>Notably, inhibition of mTOR with sirolimus red...</td>\n",
       "      <td>positive</td>\n",
       "    </tr>\n",
       "    <tr>\n",
       "      <th>4</th>\n",
       "      <td>1</td>\n",
       "      <td>Chlorpromazine, an antipsychotic (via dopamine...</td>\n",
       "      <td>neutral</td>\n",
       "    </tr>\n",
       "  </tbody>\n",
       "</table>\n",
       "</div>"
      ],
      "text/plain": [
       "   label                                           sentence true_label\n",
       "0      1  However, it is not clear whether the anti-viru...    neutral\n",
       "1      0  However, the use of ribavirin is associated wi...   negative\n",
       "2      2  According to preliminary reports [50 , 51] fro...   positive\n",
       "3      2  Notably, inhibition of mTOR with sirolimus red...   positive\n",
       "4      1  Chlorpromazine, an antipsychotic (via dopamine...    neutral"
      ]
     },
     "execution_count": 66,
     "metadata": {},
     "output_type": "execute_result"
    }
   ],
   "source": [
    "df_sentiment_keras['label'] = df_sentiment_keras['true_label'].map({'neutral': 1, 'positive': 2, 'negative': 0})\n",
    "df_sentiment_keras.head()"
   ]
  },
  {
   "cell_type": "markdown",
   "metadata": {},
   "source": [
    "Split data on test (30%) and training (70%) sets"
   ]
  },
  {
   "cell_type": "code",
   "execution_count": 67,
   "metadata": {},
   "outputs": [],
   "source": [
    "X_train, X_test, y_train, y_test = train_test_split(df_sentiment_keras['sentence'], df_sentiment_keras['label'], test_size=0.3, random_state=42)"
   ]
  },
  {
   "cell_type": "markdown",
   "metadata": {},
   "source": [
    "Textual data has to be converted into numeric form before it can be used by deep learning models. <br/>\n",
    "One way to convert text to numbers is via word embeddings.\n",
    "In word embeddings, every word is represented as an n-dimensional dense vector. <br/> \n",
    "The words that are similar will have similar vector. Word embeddings techniques such as GloVe and Word2Vec have proven to be extremely efficient for converting words into corresponding dense vectors. The vector size is small and none of the indexes in the vector is actually empty. <br/>"
   ]
  },
  {
   "cell_type": "markdown",
   "metadata": {},
   "source": [
    "The first step in word embeddings is to convert the words into thier corresponding numeric indexes. <br/> \n",
    "Sentences can have different lengths, and therefore the sequences returned by the Tokenizer class also consist of variable lengths. <br/>\n",
    "We specify that maximum length of the sequence will be 300. For the sentences having length less than 300, the remaining indexes will be padded with zeros. For the sentences having length greater than 300, the remaining indexes will be truncated."
   ]
  },
  {
   "cell_type": "code",
   "execution_count": 68,
   "metadata": {},
   "outputs": [],
   "source": [
    "tokenizer = Tokenizer(num_words=5000)\n",
    "tokenizer.fit_on_texts(train_df['sentence'])\n",
    "\n",
    "X_train = tokenizer.texts_to_sequences(X_train)\n",
    "X_test = tokenizer.texts_to_sequences(X_test)\n",
    "\n",
    "vocab_size = len(tokenizer.word_index) + 1\n",
    "\n",
    "maxlen = 300\n",
    "\n",
    "X_train = pad_sequences(X_train, padding='post', maxlen=maxlen)\n",
    "X_test = pad_sequences(X_test, padding='post', maxlen=maxlen)"
   ]
  },
  {
   "cell_type": "markdown",
   "metadata": {},
   "source": [
    "Next, we need to load the built-in GloVe word embeddings. <br/>\n",
    "Finally, we will create an embedding matrix where rows will be equal to the number of words in the vocabulary (plus 1). <br/> \n",
    "The number of columns will be 100 since each word in the GloVe word embeddings that we loaded is represented as a 100 dimensional vector."
   ]
  },
  {
   "cell_type": "code",
   "execution_count": 69,
   "metadata": {},
   "outputs": [],
   "source": [
    "embeddings_dictionary = dict()\n",
    "glove_file = open(GLOVE_FILE_NAME, encoding=\"utf8\")\n",
    "\n",
    "for line in glove_file:\n",
    "    records = line.split()\n",
    "    word = records[0]\n",
    "    vector_dimensions = asarray(records[1:], dtype='float32')\n",
    "    embeddings_dictionary[word] = vector_dimensions\n",
    "glove_file.close()\n",
    "\n",
    "embedding_matrix = zeros((vocab_size, 100))\n",
    "for word, index in tokenizer.word_index.items():\n",
    "    embedding_vector = embeddings_dictionary.get(word)\n",
    "    if embedding_vector is not None:\n",
    "        embedding_matrix[index] = embedding_vector"
   ]
  },
  {
   "cell_type": "markdown",
   "metadata": {},
   "source": [
    "We will create a very simple model with one input layer (embedding layer), one LSTM layer with 128 neurons and one dense layer that will act as the output layer as well. <br/>\n",
    "Since we have 3 possible outputs, the number of neurons will be 3 and the activation function will be softmax. <br/>\n",
    "We will use the categorical_crossentropy as our loss function and adam as the optimization function."
   ]
  },
  {
   "cell_type": "code",
   "execution_count": 70,
   "metadata": {},
   "outputs": [
    {
     "name": "stdout",
     "output_type": "stream",
     "text": [
      "Model: \"model_1\"\n",
      "_________________________________________________________________\n",
      "Layer (type)                 Output Shape              Param #   \n",
      "=================================================================\n",
      "input_1 (InputLayer)         (None, 300)               0         \n",
      "_________________________________________________________________\n",
      "embedding_1 (Embedding)      (None, 300, 100)          261900    \n",
      "_________________________________________________________________\n",
      "lstm_1 (LSTM)                (None, 128)               117248    \n",
      "_________________________________________________________________\n",
      "dense_1 (Dense)              (None, 3)                 387       \n",
      "=================================================================\n",
      "Total params: 379,535\n",
      "Trainable params: 117,635\n",
      "Non-trainable params: 261,900\n",
      "_________________________________________________________________\n",
      "None\n"
     ]
    }
   ],
   "source": [
    "variables_for_classification = 3\n",
    "epochs = 10\n",
    "batch_size = 28\n",
    "\n",
    "deep_inputs = Input(shape=(maxlen,))\n",
    "embedding_layer = Embedding(vocab_size, 100, weights=[embedding_matrix], trainable=False)(deep_inputs)\n",
    "LSTM_Layer_1 = LSTM(128)(embedding_layer)\n",
    "dense_layer_1 = Dense(variables_for_classification, activation='sigmoid')(LSTM_Layer_1)\n",
    "model = Model(inputs=deep_inputs, outputs=dense_layer_1)\n",
    "\n",
    "model.compile(loss='binary_crossentropy', optimizer='adam', metrics=['acc'])\n",
    "print(model.summary())"
   ]
  },
  {
   "cell_type": "markdown",
   "metadata": {},
   "source": [
    "Convert labels to_categorical "
   ]
  },
  {
   "cell_type": "code",
   "execution_count": 71,
   "metadata": {},
   "outputs": [],
   "source": [
    "train_labels = to_categorical(y_train, num_classes=variables_for_classification)"
   ]
  },
  {
   "cell_type": "markdown",
   "metadata": {},
   "source": [
    "Train our model"
   ]
  },
  {
   "cell_type": "code",
   "execution_count": 72,
   "metadata": {},
   "outputs": [
    {
     "name": "stdout",
     "output_type": "stream",
     "text": [
      "Train on 280 samples, validate on 70 samples\n",
      "Epoch 1/10\n",
      "280/280 [==============================] - 3s 10ms/step - loss: 0.6751 - acc: 0.6667 - val_loss: 0.5845 - val_acc: 0.6667\n",
      "Epoch 2/10\n",
      "280/280 [==============================] - 2s 7ms/step - loss: 0.6128 - acc: 0.6667 - val_loss: 0.5741 - val_acc: 0.6667\n",
      "Epoch 3/10\n",
      "280/280 [==============================] - 2s 7ms/step - loss: 0.6075 - acc: 0.6667 - val_loss: 0.5767 - val_acc: 0.6667\n",
      "Epoch 4/10\n",
      "280/280 [==============================] - 2s 7ms/step - loss: 0.6071 - acc: 0.6667 - val_loss: 0.5704 - val_acc: 0.6667\n",
      "Epoch 5/10\n",
      "280/280 [==============================] - 2s 7ms/step - loss: 0.6067 - acc: 0.6667 - val_loss: 0.5812 - val_acc: 0.6667\n",
      "Epoch 6/10\n",
      "280/280 [==============================] - 2s 7ms/step - loss: 0.6085 - acc: 0.6667 - val_loss: 0.5719 - val_acc: 0.6667\n",
      "Epoch 7/10\n",
      "280/280 [==============================] - 2s 7ms/step - loss: 0.6075 - acc: 0.6667 - val_loss: 0.5833 - val_acc: 0.6667\n",
      "Epoch 8/10\n",
      "280/280 [==============================] - 2s 7ms/step - loss: 0.8605 - acc: 0.6012 - val_loss: 0.5955 - val_acc: 0.6667\n",
      "Epoch 9/10\n",
      "280/280 [==============================] - 2s 7ms/step - loss: 0.6189 - acc: 0.6667 - val_loss: 0.5971 - val_acc: 0.6667\n",
      "Epoch 10/10\n",
      "280/280 [==============================] - 2s 7ms/step - loss: 0.6091 - acc: 0.6667 - val_loss: 0.5742 - val_acc: 0.6667\n"
     ]
    }
   ],
   "source": [
    "history = model.fit(X_train, train_labels, epochs=epochs, batch_size=batch_size,validation_split=0.2, verbose=1, )"
   ]
  },
  {
   "cell_type": "markdown",
   "metadata": {},
   "source": [
    "Evaluate model performance"
   ]
  },
  {
   "cell_type": "code",
   "execution_count": 73,
   "metadata": {},
   "outputs": [
    {
     "name": "stdout",
     "output_type": "stream",
     "text": [
      "150/150 [==============================] - 0s 2ms/step\n",
      "Accuracy: 0.6666666865348816\n"
     ]
    }
   ],
   "source": [
    "test_labels = to_categorical(y_test, num_classes=variables_for_classification)\n",
    "score = model.evaluate(X_test, test_labels, verbose=1)\n",
    "print(\"Accuracy:\", score[1])"
   ]
  },
  {
   "cell_type": "markdown",
   "metadata": {},
   "source": [
    "Display how model accuracy is changing during epochs"
   ]
  },
  {
   "cell_type": "code",
   "execution_count": 74,
   "metadata": {},
   "outputs": [
    {
     "data": {
      "image/png": "[encoded data removed]",
      "text/plain": [
       "<Figure size 432x288 with 1 Axes>"
      ]
     },
     "metadata": {
      "needs_background": "light"
     },
     "output_type": "display_data"
    },
    {
     "data": {
      "image/png": "[encoded data removed]",
      "text/plain": [
       "<Figure size 432x288 with 1 Axes>"
      ]
     },
     "metadata": {
      "needs_background": "light"
     },
     "output_type": "display_data"
    }
   ],
   "source": [
    "plt.plot(history.history['acc'])\n",
    "plt.plot(history.history['val_acc'])\n",
    "\n",
    "plt.title('model accuracy')\n",
    "plt.ylabel('accuracy')\n",
    "plt.xlabel('epoch')\n",
    "plt.legend(['train','test'])\n",
    "plt.show()\n",
    "\n",
    "plt.plot(history.history['loss'])\n",
    "plt.plot(history.history['val_loss'])\n",
    "\n",
    "plt.title('model loss')\n",
    "plt.ylabel('loss')\n",
    "plt.xlabel('epoch')\n",
    "plt.legend(['train','test'])\n",
    "plt.show()"
   ]
  },
  {
   "cell_type": "markdown",
   "metadata": {},
   "source": [
    "As we can see  we can use the limit of 2 epochs because after that accuracy stays the same"
   ]
  },
  {
   "cell_type": "markdown",
   "metadata": {},
   "source": [
    "### Summary table"
   ]
  },
  {
   "cell_type": "markdown",
   "metadata": {},
   "source": [
    "| Algorithm | Accuracy | F1 Macro         \n",
    "| - |------------- | -\n",
    "| Vader | 0.49 | 0.48\n",
    "| TextBlob | 0.43 | 0.39\n",
    "| SVM | 0.65 | 0.62\n",
    "| Keras | 0.67 | \n"
   ]
  },
  {
   "cell_type": "markdown",
   "metadata": {},
   "source": [
    "## 4.3 Covid-19 Drugs  Sentiment Analysis   <a name=\"sentiment_analysis_drug\"></a>"
   ]
  },
  {
   "cell_type": "markdown",
   "metadata": {},
   "source": [
    "For this project I decided to choose the SVM Model for the Sentiment definition from the tested models above. <br/>\n",
    "Now we are going to iterate over all sentences with Drugs Names and define Positive, Neutral or Negative sentiment for each sentence."
   ]
  },
  {
   "cell_type": "code",
   "execution_count": 82,
   "metadata": {},
   "outputs": [],
   "source": [
    "def score_category_to_number(category):\n",
    "        return 1 if category == 'positive' else -1 if category == 'negative' else 0"
   ]
  },
  {
   "cell_type": "code",
   "execution_count": 83,
   "metadata": {},
   "outputs": [],
   "source": [
    "drugs_scores ={}\n",
    "drugs_scores_num ={}\n",
    "drugs_scores_document ={}\n",
    "for key, sentences in drugs_sentences_result.items():\n",
    "    drugs_scores_document_num ={}\n",
    "    for sentence in sentences:   \n",
    "         snts = []\n",
    "         snts.append(sentence)\n",
    "         prediction = svm_learner.predict(snts)\n",
    "         combined_score = score_category_to_number(prediction)\n",
    "         tokenized_text = nltk.word_tokenize(sentence)\n",
    "         tokens_cleaned = remove_noise(tokenized_text, stop_words)\n",
    "         # check Drugs\n",
    "         for drug in drugs_unique_lower_wstop:\n",
    "             if drug in tokens_cleaned:\n",
    "                  if drug not in drugs_scores:\n",
    "                    drugs_scores[drug] = combined_score\n",
    "                  else:\n",
    "                    drugs_scores[drug] += combined_score\n",
    "                    \n",
    "                  if drug not in drugs_scores_num:\n",
    "                    drugs_scores_num[drug] = 1\n",
    "                  else:\n",
    "                    drugs_scores_num[drug] += 1\n",
    "                  \n",
    "                  if drug not in drugs_scores_document_num:\n",
    "                    drugs_scores_document_num[drug] = 1\n",
    "                    \n",
    "    # count documents with drug mentioned\n",
    "    for key, value in drugs_scores_document_num.items():\n",
    "        if key not in drugs_scores_document:\n",
    "             drugs_scores_document[key] = 1\n",
    "        else:\n",
    "             drugs_scores_document[key] += 1"
   ]
  },
  {
   "cell_type": "code",
   "execution_count": 84,
   "metadata": {},
   "outputs": [
    {
     "name": "stdout",
     "output_type": "stream",
     "text": [
      "Total number of document:  1820\n"
     ]
    }
   ],
   "source": [
    "document_count = len(drugs_sentences_result)\n",
    "print(\"Total number of document: \", document_count)"
   ]
  },
  {
   "cell_type": "markdown",
   "metadata": {},
   "source": [
    "### Calculate normalized score for Drugs"
   ]
  },
  {
   "cell_type": "markdown",
   "metadata": {},
   "source": [
    "Now we calculate the *Normalized sentiment score* : <br/> \n",
    "\n",
    "&nbsp;&nbsp;&nbsp;&nbsp; **(Summary Score / Number of Scores) * (Number of Document with drug mentioned / Total Number of Documents)**\n",
    "<br/>\n",
    "\n",
    "and show Top-20 Drugs names with the highest normalized scores"
   ]
  },
  {
   "cell_type": "code",
   "execution_count": 85,
   "metadata": {},
   "outputs": [],
   "source": [
    "# Normalize Score\n",
    "drugs_scores_normalized ={}\n",
    "for key, value in drugs_scores.items():\n",
    "    #total drug's score\n",
    "    score = drugs_scores[key]\n",
    "    \n",
    "    #number of drug's scores\n",
    "    count = drugs_scores_num[key]\n",
    "    if count == 0:\n",
    "        count = 1\n",
    "    \n",
    "    #number of document with the drug mentioned\n",
    "    doc_count = drugs_scores_document[key]\n",
    "    \n",
    "    # Normalized score = summary score divided by number of scores and muplitly  \n",
    "    # the number of document with drug mentioned divided by total number of documents\n",
    "    norm_score = round((score / count) * (doc_count/document_count) * 100,2)\n",
    "    drugs_scores_normalized[key] = [norm_score, round((score / count) * 100,2), doc_count]\n",
    "    \n",
    "# Check Top 20 Drugs with highest normalized score\n",
    "drugs_scores_top = sorted(drugs_scores_normalized.items(), key=itemgetter(1), reverse = True) "
   ]
  },
  {
   "cell_type": "markdown",
   "metadata": {},
   "source": [
    "## 4.4 Covid-19 Drugs Final Scores   <a name=\"sentiment_analysis_final\"></a>"
   ]
  },
  {
   "cell_type": "markdown",
   "metadata": {},
   "source": [
    "And finally we will display a WordCloud chart with the Drugs Names"
   ]
  },
  {
   "cell_type": "code",
   "execution_count": 86,
   "metadata": {},
   "outputs": [
    {
     "data": {
      "text/html": [
       "<div>\n",
       "<style scoped>\n",
       "    .dataframe tbody tr th:only-of-type {\n",
       "        vertical-align: middle;\n",
       "    }\n",
       "\n",
       "    .dataframe tbody tr th {\n",
       "        vertical-align: top;\n",
       "    }\n",
       "\n",
       "    .dataframe thead th {\n",
       "        text-align: right;\n",
       "    }\n",
       "</style>\n",
       "<table border=\"1\" class=\"dataframe\">\n",
       "  <thead>\n",
       "    <tr style=\"text-align: right;\">\n",
       "      <th></th>\n",
       "      <th>drug</th>\n",
       "      <th>normalized score</th>\n",
       "      <th>scores</th>\n",
       "      <th>documents</th>\n",
       "    </tr>\n",
       "  </thead>\n",
       "  <tbody>\n",
       "    <tr>\n",
       "      <th>3</th>\n",
       "      <td>chloroquine</td>\n",
       "      <td>14.16</td>\n",
       "      <td>73.86</td>\n",
       "      <td>349</td>\n",
       "    </tr>\n",
       "    <tr>\n",
       "      <th>4</th>\n",
       "      <td>remdesivir</td>\n",
       "      <td>12.74</td>\n",
       "      <td>69.60</td>\n",
       "      <td>333</td>\n",
       "    </tr>\n",
       "    <tr>\n",
       "      <th>25</th>\n",
       "      <td>hydroxychloroquine</td>\n",
       "      <td>11.00</td>\n",
       "      <td>58.03</td>\n",
       "      <td>345</td>\n",
       "    </tr>\n",
       "    <tr>\n",
       "      <th>26</th>\n",
       "      <td>tocilizumab</td>\n",
       "      <td>5.78</td>\n",
       "      <td>70.55</td>\n",
       "      <td>149</td>\n",
       "    </tr>\n",
       "    <tr>\n",
       "      <th>15</th>\n",
       "      <td>lopinavir</td>\n",
       "      <td>5.77</td>\n",
       "      <td>68.18</td>\n",
       "      <td>154</td>\n",
       "    </tr>\n",
       "    <tr>\n",
       "      <th>16</th>\n",
       "      <td>ritonavir</td>\n",
       "      <td>5.07</td>\n",
       "      <td>70.39</td>\n",
       "      <td>131</td>\n",
       "    </tr>\n",
       "    <tr>\n",
       "      <th>71</th>\n",
       "      <td>azithromycin</td>\n",
       "      <td>4.46</td>\n",
       "      <td>48.90</td>\n",
       "      <td>166</td>\n",
       "    </tr>\n",
       "    <tr>\n",
       "      <th>39</th>\n",
       "      <td>ribavirin</td>\n",
       "      <td>3.91</td>\n",
       "      <td>56.50</td>\n",
       "      <td>126</td>\n",
       "    </tr>\n",
       "    <tr>\n",
       "      <th>53</th>\n",
       "      <td>arbidol</td>\n",
       "      <td>3.40</td>\n",
       "      <td>71.22</td>\n",
       "      <td>87</td>\n",
       "    </tr>\n",
       "    <tr>\n",
       "      <th>36</th>\n",
       "      <td>oseltamivir</td>\n",
       "      <td>2.57</td>\n",
       "      <td>47.20</td>\n",
       "      <td>99</td>\n",
       "    </tr>\n",
       "  </tbody>\n",
       "</table>\n",
       "</div>"
      ],
      "text/plain": [
       "                  drug  normalized score  scores  documents\n",
       "3          chloroquine             14.16   73.86        349\n",
       "4           remdesivir             12.74   69.60        333\n",
       "25  hydroxychloroquine             11.00   58.03        345\n",
       "26         tocilizumab              5.78   70.55        149\n",
       "15           lopinavir              5.77   68.18        154\n",
       "16           ritonavir              5.07   70.39        131\n",
       "71        azithromycin              4.46   48.90        166\n",
       "39           ribavirin              3.91   56.50        126\n",
       "53             arbidol              3.40   71.22         87\n",
       "36         oseltamivir              2.57   47.20         99"
      ]
     },
     "execution_count": 86,
     "metadata": {},
     "output_type": "execute_result"
    }
   ],
   "source": [
    "# Convert dictionary into Dataframe\n",
    "# sentiment statistics per drug\n",
    "df = pd.DataFrame([drugs_scores_normalized.keys(), drugs_scores_normalized.values()]).T\n",
    "df.columns = ['drug', 'score']\n",
    "df1 = pd.DataFrame(df['score'].to_list(), columns=[ 'normalized score', 'scores', 'documents'])\n",
    "df = pd.merge(df, df1, left_index=True, right_index=True)\n",
    "df\n",
    "del df['score']\n",
    "final_df = df.sort_values(by=['normalized score', 'scores', 'documents' ], ascending=False)\n",
    "final_df.head(10)"
   ]
  },
  {
   "cell_type": "code",
   "execution_count": 87,
   "metadata": {},
   "outputs": [],
   "source": [
    "data = dict(zip(final_df['drug'].tolist(), final_df['normalized score'].tolist()))"
   ]
  },
  {
   "cell_type": "markdown",
   "metadata": {},
   "source": [
    "## 4.5 Covid-19 Drugs Final Scores WordCloud   <a name=\"sentiment_analysis_wordcloud\"></a>"
   ]
  },
  {
   "cell_type": "code",
   "execution_count": 88,
   "metadata": {},
   "outputs": [
    {
     "data": {
      "image/png": "[encoded data removed]",
      "text/plain": [
       "<Figure size 864x864 with 1 Axes>"
      ]
     },
     "metadata": {
      "needs_background": "light"
     },
     "output_type": "display_data"
    }
   ],
   "source": [
    "wordcloud = WordCloud(\n",
    "        background_color='white',\n",
    "        max_words=100,\n",
    "        max_font_size=40, \n",
    "        scale=3,\n",
    "        random_state=1 \n",
    "    ).generate_from_frequencies(data)\n",
    "fig = plt.figure(1, figsize=(12, 12))\n",
    "plt.axis('off')\n",
    "fig.suptitle(\"Covid-19 Drugs Sentiment Analysis: January - May 2020\", fontsize=20)\n",
    "fig.subplots_adjust(top=2.3)\n",
    "\n",
    "plt.imshow(wordcloud,cmap=plt.cm.gray, interpolation='bilinear')\n",
    "plt.show()\n"
   ]
  },
  {
   "cell_type": "markdown",
   "metadata": {},
   "source": [
    "Save final results with Drugs' Scores to CSV file"
   ]
  },
  {
   "cell_type": "code",
   "execution_count": 89,
   "metadata": {},
   "outputs": [],
   "source": [
    "final_df.to_csv(FORMATTED_FILES_DIR + \"Drugs Score.csv\", encoding='utf-8', index=False)"
   ]
  },
  {
   "cell_type": "markdown",
   "metadata": {},
   "source": [
    "## 5. Results and Discussion <a name=\"results\"></a>"
   ]
  },
  {
   "cell_type": "markdown",
   "metadata": {},
   "source": [
    "During the analysis, we defined the Top Drug Names with positive notation for Covid-19 treatments<br/>\n",
    " - Medical Domain is extremly complex - it's not quite clear for a human without medical education to understand some sentence's sentiment;\n",
    " - I have not found any labeled datasets for the Sentiments analysis in Medical Domain. Existing pre-trained models based on the data from social media (tweets, movies/hotels reviews) and do not fit for medical documents.  So if you know it - please let me know;\n",
    " - Good normalized medical entities (drugs, symptoms, diseases names) are not easy to get and use AS-IS;\n",
    " - NTLK sentence paser is not very good for this medical corpus documents.\n",
    " \n",
    "### Limitations\n",
    "\n",
    "- Drugs names numbers limited by the RxNav Rest API results and not very accurate. I can't get a list of only drugs;\n",
    "- Supervised Machine Learning - Model training was done on 500 sentences labeled by me (I am not a doctor and some labels may be wrong)."
   ]
  },
  {
   "cell_type": "markdown",
   "metadata": {},
   "source": [
    "## 6. Conclusion <a name=\"conclusion\"></a>"
   ]
  },
  {
   "cell_type": "markdown",
   "metadata": {},
   "source": [
    "To conclude, the basic document analysis was performed to identify Top Drugs Names which have positive sentiments related Covid-19 treatment. <br/>\n",
    "\n",
    "During the analysis, we cleansed and investigated CORD-19 dataset, found some statistical characteristics  and visualize them.<br/>\n",
    "\n",
    "The aim of this project is to found the Drugs Names which likely help against COVID-19 based on positive characterictics stated about the particular drug in the Medical Documents extracted from the different sources like PubMed, WHO, and other.\n",
    "\n",
    "\n"
   ]
  },
  {
   "cell_type": "markdown",
   "metadata": {},
   "source": [
    "### Areas of improvement\n",
    "- Parse Drugs Names from the special document's sections only or add a weight to the score based on the section's name;\n",
    "- Improve Machine Learning and Deep Learning Models for Sentiment Analysis;\n",
    "- Got a good normalized list of the Drugs Names;\n",
    "- Improve sentence splitting/detection;\n",
    "- Clear initial documents better - remove http://, [5], (12,43) and so on, remove non-English sentences/documents;\n",
    "- Find or create Labeled Sentiment dataset(s) for Medical Domain related Drugs Treatment at least. There is one dataset with Persons' Drugs reviews but it is not suits for this kind of investigation  - how a Drug treats a disease.\n"
   ]
  },
  {
   "cell_type": "markdown",
   "metadata": {},
   "source": [
    "## 7. References <a name=\"references\"></a>"
   ]
  },
  {
   "cell_type": "markdown",
   "metadata": {},
   "source": [
    "1. Fine-grained Sentiment Analysis in Python (Part 1) - https://towardsdatascience.com/fine-grained-sentiment-analysis-in-python-part-1-2697bb111ed4\n",
    "2. Python for NLP: Creating Multi-Data-Type Classification Models with Keras - https://stackabuse.com/python-for-nlp-creating-multi-data-type-classification-models-with-keras/\n",
    "3. CORD-19: EDA, parse JSON and generate clean CSV - https://www.kaggle.com/xhlulu/cord-19-eda-parse-json-and-generate-clean-csv\n",
    "4. COVID Knowledge Distiller - https://www.kaggle.com/ravikiranbhaskar/covid-knowledge-distiller\n",
    "5. CORD-19: Explore Drugs Being Developed - https://www.kaggle.com/maria17/cord-19-explore-drugs-being-developed\n",
    "6. Sentiment Analysis - https://monkeylearn.com/sentiment-analysis/"
   ]
  },
  {
   "cell_type": "markdown",
   "metadata": {},
   "source": [
    "Thank you! <br/>\n",
    "This notebook was created by *Siarhei Vasiaichau*. <br/>\n",
    "Email: gmlvsv@gmail.com"
   ]
  }
 ],
 "metadata": {
  "kernelspec": {
   "display_name": "Python 3",
   "language": "python",
   "name": "python3"
  },
  "language_info": {
   "codemirror_mode": {
    "name": "ipython",
    "version": 3
   },
   "file_extension": ".py",
   "mimetype": "text/x-python",
   "name": "python",
   "nbconvert_exporter": "python",
   "pygments_lexer": "ipython3",
   "version": "3.7.6"
  }
 },
 "nbformat": 4,
 "nbformat_minor": 4
}
